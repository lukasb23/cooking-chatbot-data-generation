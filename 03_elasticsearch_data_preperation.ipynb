{
 "cells": [
  {
   "cell_type": "markdown",
   "metadata": {},
   "source": [
    "## Data Preperation for Elasticsearch"
   ]
  },
  {
   "cell_type": "markdown",
   "metadata": {},
   "source": [
    "### Edit #1: A little bit of perfectionism <br>\n",
    "\n",
    "    sed -i 's/preparation-group/preparation_group/g' recipe_urls_final_v2.json \n",
    "\n",
    "    sed -i 's/ingredient-group/ingredient_group/g' recipe_urls_final_v2.json"
   ]
  },
  {
   "cell_type": "code",
   "execution_count": 1,
   "metadata": {},
   "outputs": [
    {
     "data": {
      "text/plain": [
       "35770"
      ]
     },
     "execution_count": 1,
     "metadata": {},
     "output_type": "execute_result"
    }
   ],
   "source": [
    "import json \n",
    "\n",
    "with open(\"data/recipe_urls_final_v2.json\", \"r\") as f:\n",
    "    recipes = json.load(f)\n",
    "\n",
    "len(recipes)"
   ]
  },
  {
   "cell_type": "code",
   "execution_count": 6,
   "metadata": {},
   "outputs": [
    {
     "data": {
      "text/plain": [
       "[{'_recipe_id': 41,\n",
       "  'categories': {'difficulty': ['Normal'],\n",
       "   'ingredient': ['Dill', 'Spice', 'Potato'],\n",
       "   'meal': ['Appetizer', 'Small Plates', 'Side'],\n",
       "   'occasion': ['Cocktail Party', 'New Year'],\n",
       "   'source': ['Bon Appétit'],\n",
       "   'special': ['Peanut Free',\n",
       "    'Soy Free',\n",
       "    'Dairy Free',\n",
       "    'Gluten-Free',\n",
       "    'Kid-Friendly'],\n",
       "   'tag': ['Small Plates'],\n",
       "   'tags': ['Holiday 2018'],\n",
       "   'time': ['Standard']},\n",
       "  'date': '2018-12-20T13:00:00.000Z',\n",
       "  'desc': 'These homemade onion-flavored chips just might be more addictive than the store-bought versions.',\n",
       "  'image_link': 'https://assets.epicurious.com/photos/5c1149646aaa854800070764/6:4/w_274%2Ch_169/onion-dip-potato-chips-recipe-BA-121218.jpg',\n",
       "  'ingredients': [{'ingredient_group': 'Group 1',\n",
       "    'ingredient_group_content': ['2 Tbsp. onion powder',\n",
       "     '1 Tbsp. garlic powder',\n",
       "     '3/4 tsp. crushed red pepper flakes',\n",
       "     '1/2 tsp. kosher salt',\n",
       "     '1 (8-oz.) bag kettle-cooked salted potato chips',\n",
       "     '1/4 cup extra-virgin olive oil',\n",
       "     '1/3 cup finely chopped dill',\n",
       "     '1 lemon',\n",
       "     'Freshly ground black pepper']},\n",
       "   {'ingredient_group': 'Special Equipment',\n",
       "    'ingredient_group_content': ['A spice mill']}],\n",
       "  'nutrients': {'calories': 224,\n",
       "   'carbohydrates': 152,\n",
       "   'cholesterol': None,\n",
       "   'fat': 18,\n",
       "   'fiber': 10,\n",
       "   'mono_fat': 2,\n",
       "   'poly_fat': 2,\n",
       "   'protein': 3,\n",
       "   'saturated_fat': 16,\n",
       "   'sodium': 2},\n",
       "  'preparation': [{'preparation_group': 'All preparation steps',\n",
       "    'preparation_group_content': ['Preheat oven to 425°F. Grind onion powder, garlic powder, red pepper flakes, and salt in spice mill until red pepper flakes are finely ground. Transfer to a small bowl and set aside.',\n",
       "     'Spread out potato chips on a rimmed baking sheet. Bake, tossing halfway through, until deep golden brown, about 5 minutes.',\n",
       "     'Transfer potato chips to a large bowl and drizzle with oil. Sprinkle reserved spice mixture over and add two-thirds of dill. Finely zest lemon over chips. Sprinkle with lots of black pepper and toss to coat (do all this while the chips are still warm so they absorb the flavors of the spice mixture). Taste and season with more salt if needed.',\n",
       "     'Transfer chips to a platter and top with remaining dill and more black pepper.']}],\n",
       "  'preparation_note': None,\n",
       "  'rating': 0.0,\n",
       "  'recomm_perc': 0,\n",
       "  'servings': 8,\n",
       "  'title': 'Onion-Dip Potato Chips',\n",
       "  'url': 'https://www.epicurious.com/recipes/food/views/onion-dip-potato-chips'},\n",
       " {'_recipe_id': 42,\n",
       "  'categories': {'difficulty': ['Normal'],\n",
       "   'ingredient': ['Meat', 'Pork'],\n",
       "   'meal': ['Appetizer'],\n",
       "   'occasion': ['Cocktail Party', 'New Year'],\n",
       "   'source': ['Bon Appétit'],\n",
       "   'tags': ['Holiday 2018'],\n",
       "   'time': ['Standard']},\n",
       "  'date': '2018-12-20T13:00:00.000Z',\n",
       "  'desc': 'A good party spread is as much about curation as it is cooking. By using quality store-bought items and plating them up with a little bit of TLC, you have a tasty, stress-free snack at the ready.',\n",
       "  'image_link': 'https://assets.epicurious.com/photos/5c1149636a49257ae708d1dd/6:4/w_274%2Ch_169/mortadella-moments-recipe-BA-121218.jpg',\n",
       "  'ingredients': [{'ingredient_group': 'All ingredients',\n",
       "    'ingredient_group_content': ['1 (8x8\") piece of focaccia',\n",
       "     'Mayonnaise (for spreading)',\n",
       "     '2 lb. very thinly sliced mortadella',\n",
       "     '16 peperoncini, halved or quartered if very large']}],\n",
       "  'nutrients': None,\n",
       "  'preparation': [{'preparation_group': 'All preparation steps',\n",
       "    'preparation_group_content': ['Holding a bread knife parallel to a cutting board, slice focaccia in half. Spread cut sides with mayonnaise and cut each half into 2\" squares. Working one at a time, drape mortadella onto squares, top with peperoncini, and secure with skewers.']}],\n",
       "  'preparation_note': None,\n",
       "  'rating': 1.0,\n",
       "  'recomm_perc': 0,\n",
       "  'servings': None,\n",
       "  'title': 'Mortadella Moments',\n",
       "  'url': 'https://www.epicurious.com/recipes/food/views/mortadella-moments'}]"
      ]
     },
     "execution_count": 6,
     "metadata": {},
     "output_type": "execute_result"
    }
   ],
   "source": [
    "recipes[40:42]"
   ]
  },
  {
   "cell_type": "code",
   "execution_count": 2,
   "metadata": {},
   "outputs": [],
   "source": [
    "from collections import defaultdict as dd \n",
    "\n",
    "def get_category_count(category):\n",
    "    \n",
    "    dict_count = dd(int)\n",
    "\n",
    "    for recipe in recipes:\n",
    "\n",
    "        try: \n",
    "            cats = recipe[\"categories\"][category]\n",
    "            for c in cats:\n",
    "                dict_count[c] += 1\n",
    "\n",
    "        except (TypeError, KeyError):\n",
    "            continue\n",
    "\n",
    "    return dict_count"
   ]
  },
  {
   "cell_type": "code",
   "execution_count": 10,
   "metadata": {},
   "outputs": [
    {
     "data": {
      "text/plain": [
       "defaultdict(int,\n",
       "            {'Aperitif': 33,\n",
       "             'Biscuit': 13,\n",
       "             'Bread': 1123,\n",
       "             'Brownie': 13,\n",
       "             'Burrito': 2,\n",
       "             'Cake': 1513,\n",
       "             'Candy': 216,\n",
       "             'Casserole/Gratin': 321,\n",
       "             'Cheesecake': 10,\n",
       "             'Chili': 15,\n",
       "             'Chowder': 1,\n",
       "             'Cobbler/Crumble': 14,\n",
       "             'Cocktail': 865,\n",
       "             'Condiment/Spread': 1303,\n",
       "             'Cookies': 875,\n",
       "             'Cranberry Sauce': 11,\n",
       "             'Crêpe': 2,\n",
       "             'Cupcake': 24,\n",
       "             'Custard': 10,\n",
       "             'Digestif': 15,\n",
       "             'Dip': 44,\n",
       "             'Edible Gift': 286,\n",
       "             'Egg Nog': 15,\n",
       "             'Flat Bread': 14,\n",
       "             'Frittata': 7,\n",
       "             'Fritter': 3,\n",
       "             'Frozen Dessert': 720,\n",
       "             'Guacamole': 1,\n",
       "             'Hamburger': 12,\n",
       "             'Hot Drink': 103,\n",
       "             'Hummus': 8,\n",
       "             'Ice Cream': 35,\n",
       "             'Iced Tea': 27,\n",
       "             'Lasagna': 9,\n",
       "             'Macaroni and Cheese': 10,\n",
       "             'Margarita': 34,\n",
       "             'Marinade': 4,\n",
       "             'Martini': 38,\n",
       "             'Meatball': 20,\n",
       "             'Meatloaf': 4,\n",
       "             'Muffin': 12,\n",
       "             'Omelet': 4,\n",
       "             'Pancake': 15,\n",
       "             'Pasta Salad': 2,\n",
       "             'Pastry': 212,\n",
       "             'Pie': 58,\n",
       "             'Pizza': 25,\n",
       "             'Pot Pie': 4,\n",
       "             'Potato Salad': 3,\n",
       "             'Punch': 102,\n",
       "             'Quiche': 5,\n",
       "             'Risotto': 6,\n",
       "             'Rub': 3,\n",
       "             'Salad': 2569,\n",
       "             'Salad Dressing': 240,\n",
       "             'Salsa': 22,\n",
       "             'Sandwich': 721,\n",
       "             'Sangria': 28,\n",
       "             'Sauce': 1324,\n",
       "             'Skewer': 13,\n",
       "             'Smoothie': 74,\n",
       "             'Sorbet': 2,\n",
       "             'Soufflé/Meringue': 10,\n",
       "             'Soup/Stew': 2251,\n",
       "             'Spritzer': 32,\n",
       "             'Stock': 21,\n",
       "             'Stuffing/Dressing': 192,\n",
       "             'Taco': 48,\n",
       "             'Tart': 29,\n",
       "             'Waffle': 8})"
      ]
     },
     "execution_count": 10,
     "metadata": {},
     "output_type": "execute_result"
    }
   ],
   "source": [
    "get_category_count(\"type\")"
   ]
  },
  {
   "cell_type": "markdown",
   "metadata": {},
   "source": [
    "### Edit #2: Cleaning meals: "
   ]
  },
  {
   "cell_type": "code",
   "execution_count": 16,
   "metadata": {},
   "outputs": [
    {
     "data": {
      "text/plain": [
       "defaultdict(int,\n",
       "            {'Appetizer': 2906,\n",
       "             'Breakfast': 2179,\n",
       "             'Buffet': 229,\n",
       "             'Dessert': 7396,\n",
       "             'Dinner': 5117,\n",
       "             'Drink': 2168,\n",
       "             'Lunch': 2479,\n",
       "             'Lunch/Dinner': 6491,\n",
       "             'Side': 5776,\n",
       "             'Small Plates': 3979,\n",
       "             'Snack': 117,\n",
       "             'leftovers': 18})"
      ]
     },
     "execution_count": 16,
     "metadata": {},
     "output_type": "execute_result"
    }
   ],
   "source": [
    "for recipe in recipes: \n",
    "    \n",
    "    try: \n",
    "        meals = recipe['categories']['meal']\n",
    "        \n",
    "        #if either lunch or dinner, make extra category \"Lunch/Dinner\"\n",
    "        if any(meal in [\"Lunch\", \"Dinner\"] for meal in meals):  \n",
    "            recipe['categories']['meal'].append(\"Lunch/Dinner\")\n",
    "                \n",
    "    except: \n",
    "        continue\n",
    "\n",
    "get_category_count(\"meal\")"
   ]
  },
  {
   "cell_type": "markdown",
   "metadata": {},
   "source": [
    "### Edit #3: Create \"Quickness\" & \"Easiness\" Category"
   ]
  },
  {
   "cell_type": "code",
   "execution_count": 28,
   "metadata": {},
   "outputs": [
    {
     "data": {
      "text/plain": [
       "defaultdict(int,\n",
       "            {'Advance Prep Required': 224,\n",
       "             'Alcoholic': 1604,\n",
       "             'Dairy Free': 5915,\n",
       "             'Diabetes-Friendly': 202,\n",
       "             'Easy': 9591,\n",
       "             'Fat Free': 677,\n",
       "             'Gluten-Free': 9480,\n",
       "             'Healthy': 4098,\n",
       "             'High Fiber': 1766,\n",
       "             'Kid-Friendly': 4045,\n",
       "             'Kidney Friendly': 5241,\n",
       "             'Kosher': 12512,\n",
       "             'Kosher for Passover': 71,\n",
       "             'Low Cal': 1856,\n",
       "             'Low Carb': 572,\n",
       "             'Low Cholesterol': 760,\n",
       "             'Low Fat': 1526,\n",
       "             'Low Sodium': 681,\n",
       "             'Low Sugar': 5253,\n",
       "             'No Cook': 1755,\n",
       "             'No Sugar Added': 5808,\n",
       "             'Non-Alcoholic': 453,\n",
       "             'Nut Free': 13877,\n",
       "             'Organic': 12,\n",
       "             'Paleo': 1405,\n",
       "             'Peanut Free': 16346,\n",
       "             'Pescatarian': 12278,\n",
       "             'Quick': 10001,\n",
       "             'Raw': 138,\n",
       "             'Soy Free': 15937,\n",
       "             'Vegan': 3448,\n",
       "             'Vegetarian': 13448})"
      ]
     },
     "execution_count": 28,
     "metadata": {},
     "output_type": "execute_result"
    }
   ],
   "source": [
    "get_category_count(\"special-consideration\")"
   ]
  },
  {
   "cell_type": "code",
   "execution_count": 29,
   "metadata": {},
   "outputs": [],
   "source": [
    "for recipe in recipes: \n",
    "    \n",
    "    try: \n",
    "        specials = recipe['categories']['special-consideration']\n",
    "        \n",
    "        if \"Easy\" in specials:  \n",
    "            recipe['categories']['difficulty'] = [\"Easy\"]\n",
    "            recipe['categories']['special-consideration'].remove(\"Easy\")\n",
    "        else: \n",
    "            recipe['categories']['difficulty'] = [\"Normal\"]\n",
    "        \n",
    "        if \"Quick\" in specials:  \n",
    "            recipe['categories']['time'] = [\"Quick\"]\n",
    "            recipe['categories']['special-consideration'].remove(\"Quick\")\n",
    "        else: \n",
    "            recipe['categories']['time'] = [\"Standard\"]\n",
    "        if \"Advance Prep Required\" in specials:  \n",
    "            recipe['categories']['time'] = [\"Long\"]\n",
    "            recipe['categories']['special-consideration'].remove(\"Advance Prep Required\")\n",
    "    \n",
    "    #no specials\n",
    "    except (TypeError, KeyError): \n",
    "        \n",
    "        try:  \n",
    "            recipe['categories']['difficulty'] = [\"Normal\"]\n",
    "            recipe['categories']['time'] = [\"Standard\"]\n",
    "        \n",
    "        #no categories\n",
    "        except (TypeError, KeyError): \n",
    "            recipe['categories'] = {\"difficulty\": \"Normal\", \"time\": \"Standard\"}"
   ]
  },
  {
   "cell_type": "code",
   "execution_count": 32,
   "metadata": {},
   "outputs": [],
   "source": [
    "for recipe in recipes: \n",
    "    \n",
    "    #remove duplicates\n",
    "    try: \n",
    "        recipe['categories']['special-consideration'].remove(\"Quick\")\n",
    "    except: pass"
   ]
  },
  {
   "cell_type": "code",
   "execution_count": 33,
   "metadata": {},
   "outputs": [
    {
     "data": {
      "text/plain": [
       "defaultdict(int,\n",
       "            {'Alcoholic': 1604,\n",
       "             'Dairy Free': 5915,\n",
       "             'Diabetes-Friendly': 202,\n",
       "             'Fat Free': 677,\n",
       "             'Gluten-Free': 9480,\n",
       "             'Healthy': 4098,\n",
       "             'High Fiber': 1766,\n",
       "             'Kid-Friendly': 4045,\n",
       "             'Kidney Friendly': 5241,\n",
       "             'Kosher': 12512,\n",
       "             'Kosher for Passover': 71,\n",
       "             'Low Cal': 1856,\n",
       "             'Low Carb': 572,\n",
       "             'Low Cholesterol': 760,\n",
       "             'Low Fat': 1526,\n",
       "             'Low Sodium': 681,\n",
       "             'Low Sugar': 5253,\n",
       "             'No Cook': 1755,\n",
       "             'No Sugar Added': 5808,\n",
       "             'Non-Alcoholic': 453,\n",
       "             'Nut Free': 13877,\n",
       "             'Organic': 12,\n",
       "             'Paleo': 1405,\n",
       "             'Peanut Free': 16346,\n",
       "             'Pescatarian': 12278,\n",
       "             'Raw': 138,\n",
       "             'Soy Free': 15937,\n",
       "             'Vegan': 3448,\n",
       "             'Vegetarian': 13448})"
      ]
     },
     "execution_count": 33,
     "metadata": {},
     "output_type": "execute_result"
    }
   ],
   "source": [
    "get_category_count(\"special-consideration\")"
   ]
  },
  {
   "cell_type": "code",
   "execution_count": 34,
   "metadata": {},
   "outputs": [
    {
     "name": "stdout",
     "output_type": "stream",
     "text": [
      "defaultdict(<class 'int'>, {'Normal': 26179, 'Easy': 9591}) defaultdict(<class 'int'>, {'Standard': 25872, 'Quick': 9674, 'Long': 224})\n"
     ]
    },
    {
     "data": {
      "text/plain": [
       "(35770, 35770)"
      ]
     },
     "execution_count": 34,
     "metadata": {},
     "output_type": "execute_result"
    }
   ],
   "source": [
    "diff, time = (get_category_count(\"difficulty\"), get_category_count(\"time\"))\n",
    "print(diff, time)\n",
    "sum(diff.values()), sum(time.values())"
   ]
  },
  {
   "cell_type": "markdown",
   "metadata": {},
   "source": [
    "### Edit #4: Rename \"special-consideration\" to \"special\""
   ]
  },
  {
   "cell_type": "code",
   "execution_count": 35,
   "metadata": {},
   "outputs": [
    {
     "data": {
      "text/plain": [
       "defaultdict(int,\n",
       "            {'Alcoholic': 1604,\n",
       "             'Dairy Free': 5915,\n",
       "             'Diabetes-Friendly': 202,\n",
       "             'Fat Free': 677,\n",
       "             'Gluten-Free': 9480,\n",
       "             'Healthy': 4098,\n",
       "             'High Fiber': 1766,\n",
       "             'Kid-Friendly': 4045,\n",
       "             'Kidney Friendly': 5241,\n",
       "             'Kosher': 12512,\n",
       "             'Kosher for Passover': 71,\n",
       "             'Low Cal': 1856,\n",
       "             'Low Carb': 572,\n",
       "             'Low Cholesterol': 760,\n",
       "             'Low Fat': 1526,\n",
       "             'Low Sodium': 681,\n",
       "             'Low Sugar': 5253,\n",
       "             'No Cook': 1755,\n",
       "             'No Sugar Added': 5808,\n",
       "             'Non-Alcoholic': 453,\n",
       "             'Nut Free': 13877,\n",
       "             'Organic': 12,\n",
       "             'Paleo': 1405,\n",
       "             'Peanut Free': 16346,\n",
       "             'Pescatarian': 12278,\n",
       "             'Raw': 138,\n",
       "             'Soy Free': 15937,\n",
       "             'Vegan': 3448,\n",
       "             'Vegetarian': 13448})"
      ]
     },
     "execution_count": 35,
     "metadata": {},
     "output_type": "execute_result"
    }
   ],
   "source": [
    "for recipe in recipes: \n",
    "    \n",
    "    try: \n",
    "        recipe['categories']['special'] = recipe['categories']['special-consideration']\n",
    "        del recipe['categories']['special-consideration']\n",
    "        \n",
    "    except: pass\n",
    "\n",
    "get_category_count(\"special\")"
   ]
  },
  {
   "cell_type": "code",
   "execution_count": 36,
   "metadata": {},
   "outputs": [
    {
     "data": {
      "text/plain": [
       "defaultdict(int, {})"
      ]
     },
     "execution_count": 36,
     "metadata": {},
     "output_type": "execute_result"
    }
   ],
   "source": [
    "get_category_count(\"special-consideration\")"
   ]
  },
  {
   "cell_type": "code",
   "execution_count": 37,
   "metadata": {},
   "outputs": [
    {
     "data": {
      "text/plain": [
       "defaultdict(int, {'Long': 224, 'Quick': 9674, 'Standard': 25872})"
      ]
     },
     "execution_count": 37,
     "metadata": {},
     "output_type": "execute_result"
    }
   ],
   "source": [
    "get_category_count(\"time\")"
   ]
  },
  {
   "cell_type": "markdown",
   "metadata": {},
   "source": [
    "### Edit #5: Dedup tag values"
   ]
  },
  {
   "cell_type": "code",
   "execution_count": 38,
   "metadata": {},
   "outputs": [],
   "source": [
    "for recipe in recipes: \n",
    "    \n",
    "    for cat in [\"meal\", \"special\", \"time\", \"difficulty\", \"ingredient\", \"cuisine\", \"occasion\"]:\n",
    "        try: \n",
    "            recipe['categories'][cat] = list(set(recipe['categories'][cat]))\n",
    "        \n",
    "        except: pass"
   ]
  },
  {
   "cell_type": "markdown",
   "metadata": {},
   "source": [
    "### Edit #6: Consistent formatting on ingredients/preperation for Elasticsearch"
   ]
  },
  {
   "cell_type": "code",
   "execution_count": 39,
   "metadata": {},
   "outputs": [],
   "source": [
    "for recipe in recipes: \n",
    "    \n",
    "    try: \n",
    "        if isinstance(recipe[\"ingredients\"][0], str): \n",
    "            recipe[\"ingredients\"] = [{\"ingredient_group_content\": recipe[\"ingredients\"], \n",
    "                                     \"ingredient_group\": \"All ingredients\"}]\n",
    "        if recipe[\"ingredients\"] is None: \n",
    "            recipe[\"ingredients\"] = [{\"ingredient_group_content\": None, \n",
    "                                     \"ingredient_group\": None}]\n",
    "    except (KeyError, IndexError):\n",
    "        pass\n",
    "    \n",
    "    try: \n",
    "        if isinstance(recipe[\"preparation\"][0], str): \n",
    "            recipe[\"preparation\"] = [{\"preparation_group_content\": recipe[\"preparation\"], \n",
    "                                     \"preparation_group\": \"All preparation steps\"}]\n",
    "        if recipe[\"preparation\"] is None: \n",
    "            recipe[\"preparation\"] = [{\"preparation_group_content\": None, \n",
    "                                     \"preparation_group\": None}]\n",
    "    \n",
    "    except (KeyError, IndexError):\n",
    "        pass"
   ]
  },
  {
   "cell_type": "code",
   "execution_count": 40,
   "metadata": {},
   "outputs": [
    {
     "data": {
      "text/plain": [
       "0"
      ]
     },
     "execution_count": 40,
     "metadata": {},
     "output_type": "execute_result"
    }
   ],
   "source": [
    "count = 0\n",
    "\n",
    "for recipe in recipes: \n",
    "    \n",
    "    try: \n",
    "        if isinstance(recipe[\"ingredients\"][0], str): \n",
    "            count += 1\n",
    "    \n",
    "    except (KeyError, IndexError):\n",
    "        \n",
    "        try:\n",
    "            if isinstance(recipe[\"preparation\"][0], str):\n",
    "                count += 1\n",
    "        \n",
    "        except (KeyError, IndexError): \n",
    "            continue\n",
    "\n",
    "count"
   ]
  },
  {
   "cell_type": "code",
   "execution_count": 18,
   "metadata": {},
   "outputs": [
    {
     "data": {
      "text/plain": [
       "[{'_recipe_id': 1,\n",
       "  'categories': {'difficulty': ['Normal'],\n",
       "   'ingredient': ['Vinegar',\n",
       "    'Egg',\n",
       "    'Cornmeal',\n",
       "    'Endive',\n",
       "    'Orange',\n",
       "    'Orange Juice',\n",
       "    'Garlic',\n",
       "    'Scallop',\n",
       "    'Avocado',\n",
       "    'Basil'],\n",
       "   'meal': ['Dinner', 'Lunch/Dinner'],\n",
       "   'occasion': ['Winter'],\n",
       "   'special': ['Dairy Free', 'Gluten-Free'],\n",
       "   'time': ['Standard'],\n",
       "   'type': ['Salad']},\n",
       "  'date': '2019-02-11T17:28:13.812Z',\n",
       "  'desc': 'Shallow-fried scallops get extra crispy on the outside and super tender inside when double-dredged in an Old Bay–seasoned cornmeal mixture. (Added bonus: they’re gluten-free.)',\n",
       "  'image_link': 'https://assets.epicurious.com/photos/5c61a910d843834ac1a6c9c7/6:4/w_274%2Ch_169/Crunchy-Scallops-on-a-Winter-Salad-recipe-30012019.jpg',\n",
       "  'ingredients': [{'ingredient_group': 'All ingredients',\n",
       "    'ingredient_group_content': ['1/2 cup cornstarch',\n",
       "     '1/2 cup fine-grind yellow cornmeal',\n",
       "     '2 tsp. Old Bay seasoning',\n",
       "     '1/2 tsp. baking powder',\n",
       "     '3 tsp. kosher salt, divided, plus more',\n",
       "     '1 tsp. freshly ground black pepper',\n",
       "     '2 large eggs',\n",
       "     '1 lb. sea scallops (about 16), side muscle removed, patted dry',\n",
       "     'Vegetable oil (for frying; about 2 cups)',\n",
       "     '1/4 cup extra-virgin olive oil',\n",
       "     '1/2 tsp. finely grated orange zest',\n",
       "     '1/4 cup fresh orange juice',\n",
       "     '2 Tbsp. white wine vinegar',\n",
       "     '1 garlic clove, finely grated',\n",
       "     '3 small or 2 large Belgian endive, root trimmed, leaves separated',\n",
       "     '3 small or 2 large oranges, peel and pith removed, cut into segments',\n",
       "     '1 avocado, sliced',\n",
       "     '1/2 cup basil leaves']}],\n",
       "  'nutrients': {'calories': 1124,\n",
       "   'carbohydrates': 1212,\n",
       "   'cholesterol': 120,\n",
       "   'fat': 59,\n",
       "   'fiber': 64,\n",
       "   'mono_fat': 8,\n",
       "   'poly_fat': 21,\n",
       "   'protein': 15,\n",
       "   'saturated_fat': 91,\n",
       "   'sodium': 9},\n",
       "  'preparation': [{'preparation_group': 'All preparation steps',\n",
       "    'preparation_group_content': ['Whisk cornstarch, cornmeal, Old Bay, baking powder, 1 tsp. salt, and 1/2 tsp. pepper in a medium bowl. Whisk eggs in another medium bowl. Season scallops with 1 tsp. salt, then use your hands to toss in cornmeal mixture until coated. Lift, shaking off excess cornmeal mixture, and transfer to egg mixture. Turn to coat, then lift, shaking off excess egg. Toss scallops to coat again in cornmeal mixture, then let them sit in mixture until ready to cook.',\n",
       "     'Pour vegetable oil into a large heavy skillet to a depth of 1/4\". Heat over medium-high until it sizzles when a pinch of cornmeal is added. Working in batches if needed, cook scallops until just cooked through and coating is golden brown, 1–2 minutes per side. Transfer to paper towels to drain. Season with salt.',\n",
       "     'Whisk olive oil, orange zest, orange juice, vinegar, garlic, and remaining 1 tsp. salt and 1/2 tsp. pepper in a large bowl. Add endive, oranges, avocado, and basil and use your hands to very gently toss to coat with dressing.',\n",
       "     'Divide salad among plates. Arrange scallops on top of salad, then pour remaining dressing over.']}],\n",
       "  'preparation_note': None,\n",
       "  'rating': 4.0,\n",
       "  'recomm_perc': 100,\n",
       "  'servings': 4,\n",
       "  'title': 'Crispy Scallop Salad',\n",
       "  'url': 'https://www.epicurious.com/recipes/food/views/crispy-scallop-salad'},\n",
       " {'_recipe_id': 2,\n",
       "  'categories': {'cuisine': ['Asian'],\n",
       "   'difficulty': ['Easy'],\n",
       "   'ingredient': ['Vinegar',\n",
       "    'Rice',\n",
       "    'Broccoli',\n",
       "    'Honey',\n",
       "    'Chicken',\n",
       "    'Soy Sauce',\n",
       "    'Sesame Oil',\n",
       "    'Ginger',\n",
       "    'Green Onion'],\n",
       "   'meal': ['Dinner', 'Small Plates', 'Lunch/Dinner'],\n",
       "   'special': ['Kid-Friendly'],\n",
       "   'tag': ['Small Plates'],\n",
       "   'time': ['Quick']},\n",
       "  'date': '2019-02-05T11:00:00.000Z',\n",
       "  'desc': 'A sweet and gingery soy sauce mixture is used to both braise and glaze skinless, boneless chicken thighs in this quick, kid-friendly dinner.',\n",
       "  'image_link': 'https://assets.epicurious.com/photos/5c574660b292f248ca3c4775/6:4/w_274%2Ch_169/SMALL-PLATES-Fast-Teriyaki-Ish-Chicken-Thighs-recipe-30012019.jpg',\n",
       "  'ingredients': [{'ingredient_group': 'All ingredients',\n",
       "    'ingredient_group_content': ['3 Tbsp. honey',\n",
       "     '3 Tbsp. soy sauce or tamari',\n",
       "     '3 Tbsp. unseasoned rice vinegar',\n",
       "     '1 tsp. finely grated ginger (from one 2\" piece)',\n",
       "     '1 Tbsp. vegetable oil',\n",
       "     '4 skinless, boneless chicken thighs',\n",
       "     '1 1/2 tsp. kosher salt, divided, plus more',\n",
       "     '1 large head of broccoli, cut into florets',\n",
       "     'Steamed rice (for serving)',\n",
       "     'Sliced scallions, toasted sesame seeds, and hot sesame oil (for serving; optional)']}],\n",
       "  'nutrients': {'calories': 481,\n",
       "   'carbohydrates': 888,\n",
       "   'cholesterol': 146,\n",
       "   'fat': 27,\n",
       "   'fiber': 13,\n",
       "   'mono_fat': 7,\n",
       "   'poly_fat': 31,\n",
       "   'protein': 6,\n",
       "   'saturated_fat': 29,\n",
       "   'sodium': 5},\n",
       "  'preparation': [{'preparation_group': 'All preparation steps',\n",
       "    'preparation_group_content': ['Whisk honey, soy sauce, vinegar, and ginger in a small bowl.',\n",
       "     'Heat oil in a large skillet over medium-high. Pat chicken dry and season with 1 tsp. salt. Cook cut side up (you want the smooth side with the most surface area to hit the pan first) until deeply golden brown, 8–10 minutes. Pour sauce over chicken and reduce heat to medium-low. Turn chicken and continue to cook, spooning sauce over occasionally, until sauce is syrupy and chicken is cooked through, 6–8 minutes more.',\n",
       "     'Meanwhile, set a steamer basket in a large pot filled with about 1\" salted water. Cover pot and bring water to a boil. Add broccoli, cover, and steam until just tender, 4–5 minutes. Season broccoli with remaining 1/2 tsp. salt.',\n",
       "     'Transfer chicken to a platter. Spoon any remaining sauce over. Serve with rice and broccoli alongside. Top chicken with scallions, sesame seeds, and sesame oil (if using).']}],\n",
       "  'preparation_note': None,\n",
       "  'rating': 3.0,\n",
       "  'recomm_perc': 67,\n",
       "  'servings': 4,\n",
       "  'title': 'Soy-Glazed Chicken with Broccoli',\n",
       "  'url': 'https://www.epicurious.com/recipes/food/views/soy-glazed-chicken-with-broccoli'},\n",
       " {'_recipe_id': 3,\n",
       "  'categories': {'difficulty': ['Easy'],\n",
       "   'ingredient': ['Vinegar', 'Rice'],\n",
       "   'meal': ['Dinner', 'Small Plates', 'Lunch/Dinner'],\n",
       "   'special': ['Kid-Friendly'],\n",
       "   'tag': ['Sunday Stash', 'Small Plates'],\n",
       "   'technique': ['Freeze'],\n",
       "   'time': ['Quick']},\n",
       "  'date': '2019-01-30T17:30:00.000Z',\n",
       "  'desc': 'This simple, large batch of seasoned rice can be frozen and repurposed in endless ways for easy, family-friendly meals.',\n",
       "  'image_link': 'https://assets.epicurious.com/photos/5c34e752dca18a525ff43744/6:4/w_274%2Ch_169/SUNDAY-STASH-JANUARY-Rice-HERO-04012019.jpg',\n",
       "  'ingredients': [{'ingredient_group': 'All ingredients',\n",
       "    'ingredient_group_content': ['1 Tbsp. plus 1½ tsp. kosher salt',\n",
       "     '1 Tbsp. distilled white vinegar or rice vinegar',\n",
       "     '2 lb. rice (about 5 cups), rinsed until water runs clear, drained']}],\n",
       "  'nutrients': {'calories': None,\n",
       "   'carbohydrates': 153,\n",
       "   'cholesterol': None,\n",
       "   'fat': 0,\n",
       "   'fiber': None,\n",
       "   'mono_fat': None,\n",
       "   'poly_fat': None,\n",
       "   'protein': None,\n",
       "   'saturated_fat': None,\n",
       "   'sodium': None},\n",
       "  'preparation': [{'preparation_group': 'All preparation steps',\n",
       "    'preparation_group_content': ['Bring 18 cups water to a boil in a large covered pot over high heat. Stir in salt and vinegar. Add rice, reduce heat to medium, and bring to a simmer. Cook, stirring occasionally, until rice is cooked through but not mushy (taste it: it should still be slightly al dente), 10–20 minutes, depending on variety of rice. Working in batches if needed, strain through a fine-mesh strainer.',\n",
       "     'If not serving immediately, spread rice in an even layer on a rimmed baking sheet and let cool. Transfer to resealable freezer bags, pat down into an even layer (so it defrosts more quickly), and freeze up to 4 months. To defrost, transfer frozen rice to a microwave-proof bowl and sprinkle with a bit of water. Cover and microwave rice on high in 1-minute bursts until warmed through. Alternately, place rice in a saucepan and add a splash of water. Cover and cook over low heat, stirring occasionally and adding more water if needed, until warmed through. If using in a soup, add frozen rice directly to soup and cook until heated through.']}],\n",
       "  'preparation_note': None,\n",
       "  'rating': 0.0,\n",
       "  'recomm_perc': 0,\n",
       "  'servings': 14,\n",
       "  'title': 'Big-Batch Rice',\n",
       "  'url': 'https://www.epicurious.com/recipes/food/views/big-batch-rice'}]"
      ]
     },
     "execution_count": 18,
     "metadata": {},
     "output_type": "execute_result"
    }
   ],
   "source": [
    "recipes[:3]"
   ]
  },
  {
   "cell_type": "markdown",
   "metadata": {},
   "source": [
    "### Edit #7: Number format in nutrients \n",
    "\n",
    "Dropped to 'inf' instead of None in 174 cases."
   ]
  },
  {
   "cell_type": "code",
   "execution_count": 42,
   "metadata": {},
   "outputs": [
    {
     "data": {
      "text/plain": [
       "174"
      ]
     },
     "execution_count": 42,
     "metadata": {},
     "output_type": "execute_result"
    }
   ],
   "source": [
    "count = 0 \n",
    "\n",
    "for recipe in recipes: \n",
    "    \n",
    "    if recipe[\"nutrients\"] is None: \n",
    "        continue\n",
    "        \n",
    "    for k,v in recipe[\"nutrients\"].items():\n",
    "        boolish = False\n",
    "        if v is None: \n",
    "            continue\n",
    "        if v > 300000: \n",
    "            boolish = True\n",
    "    \n",
    "    if boolish:\n",
    "        recipe[\"nutrients\"] = None\n",
    "        count += 1\n",
    "count"
   ]
  },
  {
   "cell_type": "markdown",
   "metadata": {},
   "source": [
    "### Edit #8: Cuisine cleaning \n",
    "\n",
    "Merge logical categories together to improve tag search."
   ]
  },
  {
   "cell_type": "code",
   "execution_count": 3,
   "metadata": {},
   "outputs": [
    {
     "data": {
      "text/plain": [
       "defaultdict(int,\n",
       "            {'African': 106,\n",
       "             'American': 5406,\n",
       "             'Argentine': 31,\n",
       "             'Ashkenazi': 13,\n",
       "             'Asian': 1408,\n",
       "             'Australian': 20,\n",
       "             'Basque': 12,\n",
       "             'Brazilian': 26,\n",
       "             'British': 45,\n",
       "             'Cajun': 201,\n",
       "             'Californian': 33,\n",
       "             'Canadian': 16,\n",
       "             'Cantonese': 1,\n",
       "             'Central': 4,\n",
       "             'Central Asian': 4,\n",
       "             'Chinese': 303,\n",
       "             'Cuban': 49,\n",
       "             'Eastern European': 176,\n",
       "             'English': 253,\n",
       "             'Ethiopian': 5,\n",
       "             'European': 159,\n",
       "             'French': 1370,\n",
       "             'French Provençal': 57,\n",
       "             'German': 102,\n",
       "             'Greek': 293,\n",
       "             'Indian': 409,\n",
       "             'Indonesian': 20,\n",
       "             'Irish': 126,\n",
       "             'Israeli': 34,\n",
       "             'Italian': 2303,\n",
       "             'Italian American': 223,\n",
       "             'Japanese': 228,\n",
       "             'Jewish': 415,\n",
       "             'Korean': 107,\n",
       "             'Latin American': 639,\n",
       "             'Mediterranean': 458,\n",
       "             'Mexican': 943,\n",
       "             'Middle Eastern': 405,\n",
       "             'Midwestern': 23,\n",
       "             'Moroccan': 197,\n",
       "             'New England': 56,\n",
       "             'Northern Italian': 28,\n",
       "             'Pacific Northwest': 12,\n",
       "             'Scandinavian': 137,\n",
       "             'Scottish': 5,\n",
       "             'Sephardic': 17,\n",
       "             'South American': 53,\n",
       "             'South Asian': 36,\n",
       "             'Southeast Asian': 142,\n",
       "             'Southern': 363,\n",
       "             'Southern Italian': 26,\n",
       "             'Southwestern': 239,\n",
       "             'Spanish': 376,\n",
       "             'Sushi': 8,\n",
       "             'Szechuan': 7,\n",
       "             'Tex-Mex': 140,\n",
       "             'Thai': 247,\n",
       "             'Turkish': 41,\n",
       "             'Vietnamese': 116})"
      ]
     },
     "execution_count": 3,
     "metadata": {},
     "output_type": "execute_result"
    }
   ],
   "source": [
    "get_category_count(\"cuisine\")"
   ]
  },
  {
   "cell_type": "code",
   "execution_count": 22,
   "metadata": {},
   "outputs": [],
   "source": [
    "#typing ... yey!\n",
    "asian = [\"Thai\", \"Indian\", \"Southeast Asian\", \"Chinese\", \"Korean\", \"Japanese\", \n",
    "        \"Indonesian\", \"Vietnamese\", \"Sushi\", \"Szechuan\", \"South Asian\", \"Cantonese\", \n",
    "         \"Central Asian\"]\n",
    "jewish = [\"Ashkenazi\", \"Sephardic\"]\n",
    "american = [\"Southern\", \"Italian American\", \"Tex-Mex\", \"New England\", \"Pacific Northwest\",\n",
    "           \"Southwestern\", \"Californian\", \"Canadian\", \"Midwestern\", \"Central\"]\n",
    "european = [\"Eastern European\", \"French\", \"German\", \"British\", \"English\", \"Scandinavian\", \n",
    "           \"Irish\", \"Scottish\"]\n",
    "european_med = [\"Italian\", \"French Provençal\", \"Spanish\", \"Turkish\", \"Greek\", \n",
    "                \"Southern Italian\", \"Northern Italian\", \"Basque\"]\n",
    "african_med = [\"Moroccan\"]\n",
    "african = [\"Cajun\", \"Ethiopian\"]\n",
    "middle_eastern = [\"Turkish\"]\n",
    "latin_american = [\"Mexican\", \"Cuban\", \"Tex-Mex\", \"Brazilian\", \"Argentine\"]\n",
    "british = [\"English\", \"Scottish\"]\n",
    "\n",
    "#sum up\n",
    "cuisines_1 = (asian, jewish, american, european, african, middle_eastern, british, latin_american)\n",
    "cuisines_1_names = (\"Asian\", \"Jewish\", \"American\", \"European\", \"African\", \"Middle Eastern\", \n",
    "                   \"British\", \"Latin American\")\n",
    "cuisines_2 = (european_med, african_med)\n",
    "cuisines_2_names = ([\"Mediterranean\", \"European\"], [\"Mediterranean\", \"African\"])"
   ]
  },
  {
   "cell_type": "code",
   "execution_count": null,
   "metadata": {},
   "outputs": [],
   "source": [
    "#quick & dirty, leads to duplicate values\n",
    "for recipe in recipes: \n",
    "    \n",
    "    try:\n",
    "        cuisine = recipe[\"categories\"][\"cuisine\"]\n",
    "        print(cuisine)\n",
    "        \n",
    "        #appending \n",
    "        for c,c_name in zip(cuisines_1,cuisines_1_names): \n",
    "\n",
    "            if any(a in cuisine for a in c): \n",
    "                recipe[\"categories\"][\"cuisine\"].append(c_name)\n",
    "        \n",
    "        #extending \n",
    "        for c,c_names in zip(cuisines_2,cuisines_2_names): \n",
    "\n",
    "            if any(a in cuisine for a in c): \n",
    "                recipe[\"categories\"][\"cuisine\"].extend(c_names)\n",
    "        \n",
    "    except KeyError: \n",
    "        continue"
   ]
  },
  {
   "cell_type": "code",
   "execution_count": 24,
   "metadata": {},
   "outputs": [
    {
     "data": {
      "text/plain": [
       "16273"
      ]
     },
     "execution_count": 24,
     "metadata": {},
     "output_type": "execute_result"
    }
   ],
   "source": [
    "#dedup again \n",
    "c = 0\n",
    "for recipe in recipes: \n",
    "    try: \n",
    "        recipe['categories']['cuisine'] = list(set(recipe['categories']['cuisine']))\n",
    "        c += 1\n",
    "    except: pass\n",
    "c"
   ]
  },
  {
   "cell_type": "markdown",
   "metadata": {},
   "source": [
    "We've got a cuisine tag for 16273 recipes, not too bad."
   ]
  },
  {
   "cell_type": "markdown",
   "metadata": {},
   "source": [
    "### Edit #8: Technique cleaning \n",
    "\n",
    "Merge logical categories together to improve tag search."
   ]
  },
  {
   "cell_type": "code",
   "execution_count": 3,
   "metadata": {},
   "outputs": [
    {
     "data": {
      "text/plain": [
       "defaultdict(int,\n",
       "            {'Bake': 8298,\n",
       "             'Boil': 703,\n",
       "             'Braise': 476,\n",
       "             'Brine': 53,\n",
       "             'Broil': 778,\n",
       "             'Chill': 1825,\n",
       "             'Deep Fry': 162,\n",
       "             'Freeze': 673,\n",
       "             'Fry': 818,\n",
       "             'Grill': 2504,\n",
       "             'Marinate': 823,\n",
       "             'Pan Fry': 396,\n",
       "             'Poach': 230,\n",
       "             'Roast': 1992,\n",
       "             'Sauté': 3128,\n",
       "             'Simmer': 1285,\n",
       "             'Steam': 357,\n",
       "             'Stir Fry': 307})"
      ]
     },
     "execution_count": 3,
     "metadata": {},
     "output_type": "execute_result"
    }
   ],
   "source": [
    "get_category_count(\"technique\")"
   ]
  },
  {
   "cell_type": "code",
   "execution_count": 6,
   "metadata": {},
   "outputs": [],
   "source": [
    "#dedup again \n",
    "c = 0\n",
    "for recipe in recipes: \n",
    "    try: \n",
    "        techniques = recipe['categories']['technique']\n",
    "        \n",
    "        #new categories\n",
    "        if \"Bake\" not in techniques: \n",
    "            techniques.append(\"No Baking\")\n",
    "        if \"Steam\" not in techniques: \n",
    "            techniques.append(\"No Steaming\")\n",
    "        if \"Grill\" not in techniques: \n",
    "            techniques.append(\"No Grilling\")\n",
    "        \n",
    "        #hierarchy\n",
    "        if \"Stir Fry\" in techniques or \"Deep Fry\" in techniques or \"Pan Fry\" in techniques: \n",
    "            techniques.append(\"Fry\")\n",
    "        \n",
    "        #dedup\n",
    "        recipe['categories']['technique'] = list(set(technique))\n",
    "\n",
    "    except: pass"
   ]
  },
  {
   "cell_type": "code",
   "execution_count": 7,
   "metadata": {},
   "outputs": [
    {
     "data": {
      "text/plain": [
       "defaultdict(int,\n",
       "            {'Bake': 8298,\n",
       "             'Boil': 703,\n",
       "             'Braise': 476,\n",
       "             'Brine': 53,\n",
       "             'Broil': 778,\n",
       "             'Chill': 1825,\n",
       "             'Deep Fry': 162,\n",
       "             'Freeze': 673,\n",
       "             'Fry': 1682,\n",
       "             'Grill': 2504,\n",
       "             'Marinate': 823,\n",
       "             'No Baking': 14183,\n",
       "             'No Grilling': 19977,\n",
       "             'No Steaming': 22124,\n",
       "             'Pan Fry': 396,\n",
       "             'Poach': 230,\n",
       "             'Roast': 1992,\n",
       "             'Sauté': 3128,\n",
       "             'Simmer': 1285,\n",
       "             'Steam': 357,\n",
       "             'Stir Fry': 307})"
      ]
     },
     "execution_count": 7,
     "metadata": {},
     "output_type": "execute_result"
    }
   ],
   "source": [
    "get_category_count(\"technique\")"
   ]
  },
  {
   "cell_type": "markdown",
   "metadata": {},
   "source": [
    "### Export again"
   ]
  },
  {
   "cell_type": "code",
   "execution_count": 8,
   "metadata": {},
   "outputs": [],
   "source": [
    "with open('data/recipe_urls_final_v3.json', 'a') as f:\n",
    "    json.dump(recipes, f)"
   ]
  }
 ],
 "metadata": {
  "kernelspec": {
   "display_name": "Python 3",
   "language": "python",
   "name": "python3"
  },
  "language_info": {
   "codemirror_mode": {
    "name": "ipython",
    "version": 3
   },
   "file_extension": ".py",
   "mimetype": "text/x-python",
   "name": "python",
   "nbconvert_exporter": "python",
   "pygments_lexer": "ipython3",
   "version": "3.6.4"
  }
 },
 "nbformat": 4,
 "nbformat_minor": 2
}
