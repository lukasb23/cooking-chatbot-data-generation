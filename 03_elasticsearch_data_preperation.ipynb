{
 "cells": [
  {
   "cell_type": "markdown",
   "metadata": {},
   "source": [
    "## Data Preperation for Elasticsearch"
   ]
  },
  {
   "cell_type": "markdown",
   "metadata": {},
   "source": [
    "### Edit #1: A little bit of perfectionism <br>\n",
    "\n",
    "    sed -i 's/preparation-group/preparation_group/g' recipe_urls_final_v2.json \n",
    "\n",
    "    sed -i 's/ingredient-group/ingredient_group/g' recipe_urls_final_v2.json"
   ]
  },
  {
   "cell_type": "code",
   "execution_count": 1,
   "metadata": {},
   "outputs": [
    {
     "data": {
      "text/plain": [
       "35770"
      ]
     },
     "execution_count": 1,
     "metadata": {},
     "output_type": "execute_result"
    }
   ],
   "source": [
    "import json \n",
    "\n",
    "with open(\"data/recipe_urls_final_v3.json\", \"r\") as f:\n",
    "    recipes = json.load(f)\n",
    "\n",
    "len(recipes)"
   ]
  },
  {
   "cell_type": "code",
   "execution_count": 5,
   "metadata": {},
   "outputs": [
    {
     "data": {
      "text/plain": [
       "[{'_recipe_id': 46,\n",
       "  'categories': {'difficulty': ['Normal'],\n",
       "   'ingredient': ['Spice',\n",
       "    'Nutmeg',\n",
       "    'Soy Sauce',\n",
       "    'Chile Pepper',\n",
       "    'Ginger',\n",
       "    'Hot Pepper',\n",
       "    'Duck'],\n",
       "   'meal': ['Dinner', 'Buffet', 'Lunch/Dinner'],\n",
       "   'occasion': ['New Year'],\n",
       "   'source': ['Bon Appétit'],\n",
       "   'tag': ['Taco'],\n",
       "   'tags': ['Holiday 2018'],\n",
       "   'technique': ['Roast'],\n",
       "   'time': ['Standard'],\n",
       "   'type': ['Taco', 'Taco']},\n",
       "  'date': '2018-12-20T12:30:00.000Z',\n",
       "  'desc': 'Bath duck in a spiced (nutmeg, allspice) and spicy (habanero) marinade, stick it in the oven, ignore it for five hours, then serve it with fixings for build-it-yourself tacos. FYI: Many butchers stock only frozen duck, so make sure to call ahead and pick it up two days before cooking so it can defrost. A single-edge razor blade, which is very thin and sharp, works particularly well for scoring the duck skin and fat.',\n",
       "  'image_link': 'https://assets.epicurious.com/photos/5c11460a76ebdc6941b82c3d/6:4/w_274%2Ch_169/jerk-spiced-duck-recipe-BA-121218.jpg',\n",
       "  'ingredients': [{'ingredient_group': 'Group 1',\n",
       "    'ingredient_group_content': ['2 (5–5 1/2-lb.) ducks',\n",
       "     'Kosher salt',\n",
       "     '2 Tbsp. allspice berries',\n",
       "     '2 whole nutmegs',\n",
       "     '16 habanero chiles, stems removed',\n",
       "     '1 cup soy sauce',\n",
       "     '1/2 cup spiced rum',\n",
       "     '1/2 cup unseasoned rice vinegar',\n",
       "     '4 tsp. sugar',\n",
       "     '2 (2\") pieces ginger, scrubbed, crushed',\n",
       "     'Hoisin sauce, small flour tortillas, sliced Napa cabbage, sliced scallions, julienned peeled ginger, sliced serrano chiles, mint sprigs, cilantro sprigs, and lime wedges (for serving)']},\n",
       "   {'ingredient_group': 'Special Equipment',\n",
       "    'ingredient_group_content': ['A razor blade and a spice mill or mortar and pestle']}],\n",
       "  'nutrients': {'calories': 1847,\n",
       "   'carbohydrates': 2033,\n",
       "   'cholesterol': 326,\n",
       "   'fat': 16,\n",
       "   'fiber': 80,\n",
       "   'mono_fat': 57,\n",
       "   'poly_fat': 54,\n",
       "   'protein': 22,\n",
       "   'saturated_fat': 170,\n",
       "   'sodium': 2},\n",
       "  'preparation': [{'preparation_group': 'All preparation steps',\n",
       "    'preparation_group_content': ['Lightly score skin of both ducks using a clean razor blade, cutting most of the way through skin and fat but not into flesh below (a very sharp, thin knife will also work). Season ducks generously with salt and place each one in a large resealable plastic bag.',\n",
       "     'Finely grind allspice in spice mill or with mortar and pestle and place in a blender. Finely grate nutmeg into blender. Add habanero chiles (we recommend keeping the seeds in as the ducks’ fat will keep it from absorbing too much heat), soy sauce, rum, vinegar, and sugar. Purée until smooth. Divide marinade between bags; add a piece of ginger to each. Seal bags, pressing out air, and work marinade around to coat ducks. Chill, breast side down, 12 hours.',\n",
       "     'Preheat oven to 450°F. Remove ducks from marinade and place, breast side up, on a wire rack set inside a foil-lined rimmed baking sheet (don’t worry about any marinade that may be inside ducks; it will add flavor as they cook). Roast ducks just until beginning to brown, 10–12 minutes. Reduce oven temperature to 250°F and continue to roast until ducks are very dark brown, leg joints wiggle freely when flexed, and an instant-read thermometer inserted into the thickest part of breasts registers 195°F, 4 1/2–5 hours. Let rest 30 minutes before shredding.',\n",
       "     'To serve, pile meat on hoisin-slicked tortillas and top with cabbage, scallions, ginger, serrano chiles, mint, and cilantro as desired; squeeze lime wedges over.']}],\n",
       "  'preparation_note': None,\n",
       "  'rating': 4.0,\n",
       "  'recomm_perc': 100,\n",
       "  'servings': 8,\n",
       "  'title': 'Jerk-Spiced Duck',\n",
       "  'url': 'https://www.epicurious.com/recipes/food/views/jerk-spiced-duck'},\n",
       " {'_recipe_id': 47,\n",
       "  'categories': {'cuisine': ['Mediterranean', 'Italian', 'European'],\n",
       "   'difficulty': ['Easy'],\n",
       "   'ingredient': ['Vinegar',\n",
       "    'Honey',\n",
       "    'Collard Greens',\n",
       "    'Kale',\n",
       "    'Mustard',\n",
       "    'Potato',\n",
       "    'Sausage'],\n",
       "   'meal': ['Small Plates'],\n",
       "   'special': ['Kid-Friendly', 'Dairy Free', 'Gluten-Free'],\n",
       "   'tag': ['Small Plates'],\n",
       "   'technique': [],\n",
       "   'time': ['Quick'],\n",
       "   'type': ['Soup/Stew']},\n",
       "  'date': '2018-12-19T17:30:00.000Z',\n",
       "  'desc': 'When you’ve got less than half an hour to get dinner on the table, a sausage sheet-pan dinner will always be there for you. With crispy mini potatoes and hearty greens that are roasted in a sweet-tart mustard dressing, this one’s an easy crowd-pleaser.',\n",
       "  'image_link': 'https://assets.epicurious.com/photos/5c191ba13b5f7e7fdf8144f2/6:4/w_274%2Ch_169/DECEMBER-SMALL-PLATES--Sausage-Sheet-Pan-Dinner-W-Potatoes-and-Hearty-Greens-recipe-13122018.jpg',\n",
       "  'ingredients': [{'ingredient_group': 'All ingredients',\n",
       "    'ingredient_group_content': ['1 1/2 lb. micro potatoes (about 1\" in diameter) or new potatoes, cut into 1\" pieces',\n",
       "     '1/2 cup extra-virgin olive oil, divided',\n",
       "     '1 3/4 tsp. kosher salt, divided',\n",
       "     '1/2 tsp. freshly ground black pepper, divided',\n",
       "     '1 lb. (about 4 links) uncooked sweet or spicy Italian sausage',\n",
       "     '3 Tbsp. sherry or red wine vinegar',\n",
       "     '1 1/2 tsp. Dijon mustard',\n",
       "     '1 1/2 tsp. honey',\n",
       "     '1 large bunch Tuscan kale or collard greens, stems removed, leaves torn into large pieces']}],\n",
       "  'nutrients': {'calories': 665,\n",
       "   'carbohydrates': 855,\n",
       "   'cholesterol': 86,\n",
       "   'fat': 8,\n",
       "   'fiber': 36,\n",
       "   'mono_fat': 17,\n",
       "   'poly_fat': 17,\n",
       "   'protein': 7,\n",
       "   'saturated_fat': 63,\n",
       "   'sodium': 1},\n",
       "  'preparation': [{'preparation_group': 'All preparation steps',\n",
       "    'preparation_group_content': ['Preheat oven to 450°F. Toss potatoes, 2 Tbsp. oil, 1 tsp. salt, and 1/4 tsp. pepper on an 18x13\" rimmed baking sheet. Prick sausages all over with a sharp knife, then nestle among potatoes. Roast, turning sausage and tossing potatoes halfway through, until potatoes are lightly browned and just barely fork-tender and sausage is just cooked through, 12–14 minutes.',\n",
       "     'Meanwhile, whisk vinegar, mustard, honey, and remaining 6 Tbsp. olive oil, 3/4 tsp. salt, and 1/4 tsp. pepper in a large bowl. Pour about 1/4 cup dressing into a small bowl or pitcher and reserve for serving. Toss greens in remaining (about 2 Tbsp.) dressing, using your hands to massage dressing evenly into leaves.',\n",
       "     'Scatter dressed leaves in an even layer over sausage and potatoes. Roast, tossing greens halfway through, until greens are tender and charred in places, 3–5 minutes.',\n",
       "     'Separate sausage, potatoes, and greens into sections to serve, if desired, or toss all together. Serve with reserved dressing alongside.']}],\n",
       "  'preparation_note': None,\n",
       "  'rating': 3.5,\n",
       "  'recomm_perc': 88,\n",
       "  'servings': 4,\n",
       "  'title': 'Sausage and Greens Sheet-Pan Dinner',\n",
       "  'url': 'https://www.epicurious.com/recipes/food/views/sausage-and-greens-sheet-pan-dinner'},\n",
       " {'_recipe_id': 48,\n",
       "  'categories': {'cuisine': ['Mediterranean', 'Italian', 'European'],\n",
       "   'difficulty': ['Normal'],\n",
       "   'ingredient': ['Lemon',\n",
       "    'Rice',\n",
       "    'Mushroom',\n",
       "    'Onion',\n",
       "    'Wine',\n",
       "    'Vermouth',\n",
       "    'Butter',\n",
       "    'Garlic',\n",
       "    'Thyme',\n",
       "    'Parsley',\n",
       "    'Parmesan'],\n",
       "   'meal': ['Dinner', 'Lunch/Dinner'],\n",
       "   'occasion': ['Winter'],\n",
       "   'special': ['Gluten-Free'],\n",
       "   'time': ['Standard'],\n",
       "   'type': ['Risotto', 'Stock']},\n",
       "  'date': '2018-12-18T19:06:16.638Z',\n",
       "  'desc': 'Yes, you can make risotto without all the stirring—just pop it in the oven. And while that oven is on, use it to crisp up a bunch of mushrooms.',\n",
       "  'image_link': 'https://assets.epicurious.com/photos/5c191ba2b950cf635908c333/6:4/w_274%2Ch_169/Oven-Risotto-with-Mushrooms-recipe-13122018.jpg',\n",
       "  'ingredients': [{'ingredient_group': 'All ingredients',\n",
       "    'ingredient_group_content': ['1 lb. mixed wild, shiitake, and/or crimini mushrooms, broken into pieces or sliced 1/4\" thick (about 4 cups)',\n",
       "     '3 garlic cloves, peeled, thinly sliced',\n",
       "     '6 thyme sprigs',\n",
       "     '1/4 tsp. crushed red pepper flakes',\n",
       "     '1/4 cup plus 2 Tbsp. extra-virgin olive oil, plus more for drizzling',\n",
       "     '1 3/4 tsp. (or more) kosher salt, divided',\n",
       "     '1 medium onion, finely chopped',\n",
       "     '1 cup arborio rice',\n",
       "     '1/2 tsp. freshly ground black pepper',\n",
       "     '1/2 cup dry vermouth or white wine',\n",
       "     '3 cups homemade chicken stock or low-sodium chicken broth, divided',\n",
       "     '2 oz. finely grated Parmesan (about 1 cup)',\n",
       "     '2 Tbsp. cold unsalted butter, cut into pieces',\n",
       "     '1/2 tsp. finely grated lemon zest',\n",
       "     '1/3 cup coarsely chopped parsley leaves',\n",
       "     'Lemon wedges (for serving)']}],\n",
       "  'nutrients': {'calories': 656,\n",
       "   'carbohydrates': 1089,\n",
       "   'cholesterol': 40,\n",
       "   'fat': 58,\n",
       "   'fiber': 20,\n",
       "   'mono_fat': 12,\n",
       "   'poly_fat': 22,\n",
       "   'protein': 3,\n",
       "   'saturated_fat': 36,\n",
       "   'sodium': 4},\n",
       "  'preparation': [{'preparation_group': 'All preparation steps',\n",
       "    'preparation_group_content': ['Place racks in bottom third and middle of oven; preheat to 350°F. Toss mushrooms, garlic, thyme, red pepper flakes, 1/4 cup oil, and 1/2 tsp. salt on a rimmed baking sheet. Roast on bottom rack, tossing halfway through, until deeply golden brown and crisped, 25–30 minutes.',\n",
       "     'Meanwhile, heat 2 Tbsp. oil in a large ovenproof Dutch oven or heavy pot over medium-high. Add onion and cook, stirring often, until softened and slightly translucent, 3–5 minutes. Stir in rice; season with pepper and 1/2 tsp. salt. Cook, stirring occasionally, until some grains are translucent, about 2 minutes. Add vermouth, bring to a simmer, and cook, stirring occasionally, until pan is almost dry, about 2 minutes. Add 2 1/2 cups stock. Bring to a simmer, then cover and bake in oven until liquid is mostly absorbed but rice is still slightly firm in the center, 16–18 minutes.',\n",
       "     'Return pot to stove and heat over medium. Add remaining 1/2 cup stock and cook, stirring constantly, until rice is tender but still has some bite and sauce is creamy, about 2 minutes. Remove from heat and stir in Parmesan, butter, and lemon zest; season to taste with salt, if needed. Add a little bit of warm water, if needed, until risotto is thick but still pourable.',\n",
       "     'Transfer risotto to a platter. Top with crispy mushrooms and parsley. Drizzle with oil. Serve with lemon wedges alongside.']}],\n",
       "  'preparation_note': None,\n",
       "  'rating': 3.5,\n",
       "  'recomm_perc': 90,\n",
       "  'servings': 4,\n",
       "  'title': 'Oven Risotto with Crispy Roasted Mushrooms',\n",
       "  'url': 'https://www.epicurious.com/recipes/food/views/oven-risotto-with-crispy-roasted-mushrooms'},\n",
       " {'_recipe_id': 49,\n",
       "  'categories': {'difficulty': ['Easy'],\n",
       "   'meal': ['Small Plates'],\n",
       "   'occasion': ['Fall', 'Game Night', 'Super Bowl', 'Party'],\n",
       "   'source': ['Gourmet'],\n",
       "   'special': ['Vegetarian', 'Kid-Friendly', 'Vegan'],\n",
       "   'tag': ['Small Plates'],\n",
       "   'time': ['Quick']},\n",
       "  'date': '2018-12-17T17:44:00.000Z',\n",
       "  'desc': 'Active time: 5 min Start to finish: 5 min',\n",
       "  'image_link': 'https://assets.epicurious.com/photos/5c17d5f6020fc25a129d959e/6:4/w_274%2Ch_169/Small-Plates-New-Years-Popcorn-12122018.jpg',\n",
       "  'ingredients': [{'ingredient_group': 'All ingredients',\n",
       "    'ingredient_group_content': ['2 tablespoons vegetable oil',\n",
       "     '1/3 cup popcorn kernels']}],\n",
       "  'nutrients': {'calories': 99,\n",
       "   'carbohydrates': 1,\n",
       "   'cholesterol': None,\n",
       "   'fat': 7,\n",
       "   'fiber': 5,\n",
       "   'mono_fat': 1,\n",
       "   'poly_fat': 1,\n",
       "   'protein': 1,\n",
       "   'saturated_fat': 7,\n",
       "   'sodium': 1},\n",
       "  'preparation': [{'preparation_group': 'All preparation steps',\n",
       "    'preparation_group_content': ['Heat oil with 3 popcorn kernels in a 3-quart heavy saucepan over moderate heat, covered, until 1 or 2 kernels pop. Quickly add remaining popcorn, then cook, covered, shaking pan frequently, until kernels stop popping, about 3 minutes.']}],\n",
       "  'preparation_note': None,\n",
       "  'rating': 3.5,\n",
       "  'recomm_perc': 85,\n",
       "  'servings': 4,\n",
       "  'title': 'Plain Popcorn',\n",
       "  'url': 'https://www.epicurious.com/recipes/food/views/plain-popcorn-108511'},\n",
       " {'_recipe_id': 50,\n",
       "  'categories': {'difficulty': ['Easy'],\n",
       "   'ingredient': ['Chocolate', 'Milk'],\n",
       "   'meal': ['Small Plates', 'Drink'],\n",
       "   'occasion': ['Winter', 'Christmas'],\n",
       "   'source': ['Parade'],\n",
       "   'special': ['Kid-Friendly', 'Non-Alcoholic'],\n",
       "   'tag': ['Small Plates'],\n",
       "   'technique': ['Boil'],\n",
       "   'time': ['Quick'],\n",
       "   'type': ['Hot Drink']},\n",
       "  'date': '2018-12-17T17:35:00.000Z',\n",
       "  'desc': None,\n",
       "  'image_link': 'https://assets.epicurious.com/photos/5c17d3ee2326557b00255488/6:4/w_274%2Ch_169/Small-Plates-New-Years-hot-chocolate-recipe-12122018.jpg',\n",
       "  'ingredients': [{'ingredient_group': 'All ingredients',\n",
       "    'ingredient_group_content': ['12 ounces semisweet chocolate (chips or chopped bars are both fine)',\n",
       "     '2 quarts milk (8 cups)']}],\n",
       "  'nutrients': None,\n",
       "  'preparation': [{'preparation_group': 'All preparation steps',\n",
       "    'preparation_group_content': ['1. Combine the chocolate and milk in a heavy saucepan. Place over medium heat until bubbles form, reduce the heat slightly, and simmer until the chocolate melts, whisking constantly.',\n",
       "     '2. Before serving, raise the heat until the chocolate just boils, still whisking. Enjoy.']}],\n",
       "  'preparation_note': None,\n",
       "  'rating': 4.0,\n",
       "  'recomm_perc': 100,\n",
       "  'servings': None,\n",
       "  'title': 'Luscious Hot Chocolate',\n",
       "  'url': 'https://www.epicurious.com/recipes/food/views/luscious-hot-chocolate-351089'}]"
      ]
     },
     "execution_count": 5,
     "metadata": {},
     "output_type": "execute_result"
    }
   ],
   "source": [
    "recipes[45:50]"
   ]
  },
  {
   "cell_type": "code",
   "execution_count": 9,
   "metadata": {},
   "outputs": [],
   "source": [
    "from collections import defaultdict as dd \n",
    "\n",
    "def get_category_count(category):\n",
    "    \n",
    "    dict_count = dd(int)\n",
    "\n",
    "    for recipe in recipes:\n",
    "\n",
    "        try: \n",
    "            cats = recipe[\"categories\"][category]\n",
    "            for c in cats:\n",
    "                dict_count[c] += 1\n",
    "\n",
    "        except (TypeError, KeyError):\n",
    "            continue\n",
    "\n",
    "    return dict_count"
   ]
  },
  {
   "cell_type": "markdown",
   "metadata": {},
   "source": [
    "### Edit #2: Cleaning meals: "
   ]
  },
  {
   "cell_type": "code",
   "execution_count": 16,
   "metadata": {},
   "outputs": [
    {
     "data": {
      "text/plain": [
       "defaultdict(int,\n",
       "            {'Appetizer': 2906,\n",
       "             'Breakfast': 2179,\n",
       "             'Buffet': 229,\n",
       "             'Dessert': 7396,\n",
       "             'Dinner': 5117,\n",
       "             'Drink': 2168,\n",
       "             'Lunch': 2479,\n",
       "             'Lunch/Dinner': 6491,\n",
       "             'Side': 5776,\n",
       "             'Small Plates': 3979,\n",
       "             'Snack': 117,\n",
       "             'leftovers': 18})"
      ]
     },
     "execution_count": 16,
     "metadata": {},
     "output_type": "execute_result"
    }
   ],
   "source": [
    "for recipe in recipes: \n",
    "    \n",
    "    try: \n",
    "        meals = recipe['categories']['meal']\n",
    "        \n",
    "        #if either lunch or dinner, make extra category \"Lunch/Dinner\"\n",
    "        if any(meal in [\"Lunch\", \"Dinner\"] for meal in meals):  \n",
    "            recipe['categories']['meal'].append(\"Lunch/Dinner\")\n",
    "                \n",
    "    except: \n",
    "        continue\n",
    "\n",
    "get_category_count(\"meal\")"
   ]
  },
  {
   "cell_type": "markdown",
   "metadata": {},
   "source": [
    "### Edit #3: Create \"Quickness\" & \"Easiness\" Category"
   ]
  },
  {
   "cell_type": "code",
   "execution_count": 28,
   "metadata": {},
   "outputs": [
    {
     "data": {
      "text/plain": [
       "defaultdict(int,\n",
       "            {'Advance Prep Required': 224,\n",
       "             'Alcoholic': 1604,\n",
       "             'Dairy Free': 5915,\n",
       "             'Diabetes-Friendly': 202,\n",
       "             'Easy': 9591,\n",
       "             'Fat Free': 677,\n",
       "             'Gluten-Free': 9480,\n",
       "             'Healthy': 4098,\n",
       "             'High Fiber': 1766,\n",
       "             'Kid-Friendly': 4045,\n",
       "             'Kidney Friendly': 5241,\n",
       "             'Kosher': 12512,\n",
       "             'Kosher for Passover': 71,\n",
       "             'Low Cal': 1856,\n",
       "             'Low Carb': 572,\n",
       "             'Low Cholesterol': 760,\n",
       "             'Low Fat': 1526,\n",
       "             'Low Sodium': 681,\n",
       "             'Low Sugar': 5253,\n",
       "             'No Cook': 1755,\n",
       "             'No Sugar Added': 5808,\n",
       "             'Non-Alcoholic': 453,\n",
       "             'Nut Free': 13877,\n",
       "             'Organic': 12,\n",
       "             'Paleo': 1405,\n",
       "             'Peanut Free': 16346,\n",
       "             'Pescatarian': 12278,\n",
       "             'Quick': 10001,\n",
       "             'Raw': 138,\n",
       "             'Soy Free': 15937,\n",
       "             'Vegan': 3448,\n",
       "             'Vegetarian': 13448})"
      ]
     },
     "execution_count": 28,
     "metadata": {},
     "output_type": "execute_result"
    }
   ],
   "source": [
    "get_category_count(\"special-consideration\")"
   ]
  },
  {
   "cell_type": "code",
   "execution_count": 29,
   "metadata": {},
   "outputs": [],
   "source": [
    "for recipe in recipes: \n",
    "    \n",
    "    try: \n",
    "        specials = recipe['categories']['special-consideration']\n",
    "        \n",
    "        if \"Easy\" in specials:  \n",
    "            recipe['categories']['difficulty'] = [\"Easy\"]\n",
    "            recipe['categories']['special-consideration'].remove(\"Easy\")\n",
    "        else: \n",
    "            recipe['categories']['difficulty'] = [\"Normal\"]\n",
    "        \n",
    "        if \"Quick\" in specials:  \n",
    "            recipe['categories']['time'] = [\"Quick\"]\n",
    "            recipe['categories']['special-consideration'].remove(\"Quick\")\n",
    "        else: \n",
    "            recipe['categories']['time'] = [\"Standard\"]\n",
    "        if \"Advance Prep Required\" in specials:  \n",
    "            recipe['categories']['time'] = [\"Long\"]\n",
    "            recipe['categories']['special-consideration'].remove(\"Advance Prep Required\")\n",
    "    \n",
    "    #no specials\n",
    "    except (TypeError, KeyError): \n",
    "        \n",
    "        try:  \n",
    "            recipe['categories']['difficulty'] = [\"Normal\"]\n",
    "            recipe['categories']['time'] = [\"Standard\"]\n",
    "        \n",
    "        #no categories\n",
    "        except (TypeError, KeyError): \n",
    "            recipe['categories'] = {\"difficulty\": \"Normal\", \"time\": \"Standard\"}"
   ]
  },
  {
   "cell_type": "code",
   "execution_count": 32,
   "metadata": {},
   "outputs": [],
   "source": [
    "for recipe in recipes: \n",
    "    \n",
    "    #remove duplicates\n",
    "    try: \n",
    "        recipe['categories']['special-consideration'].remove(\"Quick\")\n",
    "    except: pass"
   ]
  },
  {
   "cell_type": "code",
   "execution_count": 33,
   "metadata": {},
   "outputs": [
    {
     "data": {
      "text/plain": [
       "defaultdict(int,\n",
       "            {'Alcoholic': 1604,\n",
       "             'Dairy Free': 5915,\n",
       "             'Diabetes-Friendly': 202,\n",
       "             'Fat Free': 677,\n",
       "             'Gluten-Free': 9480,\n",
       "             'Healthy': 4098,\n",
       "             'High Fiber': 1766,\n",
       "             'Kid-Friendly': 4045,\n",
       "             'Kidney Friendly': 5241,\n",
       "             'Kosher': 12512,\n",
       "             'Kosher for Passover': 71,\n",
       "             'Low Cal': 1856,\n",
       "             'Low Carb': 572,\n",
       "             'Low Cholesterol': 760,\n",
       "             'Low Fat': 1526,\n",
       "             'Low Sodium': 681,\n",
       "             'Low Sugar': 5253,\n",
       "             'No Cook': 1755,\n",
       "             'No Sugar Added': 5808,\n",
       "             'Non-Alcoholic': 453,\n",
       "             'Nut Free': 13877,\n",
       "             'Organic': 12,\n",
       "             'Paleo': 1405,\n",
       "             'Peanut Free': 16346,\n",
       "             'Pescatarian': 12278,\n",
       "             'Raw': 138,\n",
       "             'Soy Free': 15937,\n",
       "             'Vegan': 3448,\n",
       "             'Vegetarian': 13448})"
      ]
     },
     "execution_count": 33,
     "metadata": {},
     "output_type": "execute_result"
    }
   ],
   "source": [
    "get_category_count(\"special-consideration\")"
   ]
  },
  {
   "cell_type": "code",
   "execution_count": 34,
   "metadata": {},
   "outputs": [
    {
     "name": "stdout",
     "output_type": "stream",
     "text": [
      "defaultdict(<class 'int'>, {'Normal': 26179, 'Easy': 9591}) defaultdict(<class 'int'>, {'Standard': 25872, 'Quick': 9674, 'Long': 224})\n"
     ]
    },
    {
     "data": {
      "text/plain": [
       "(35770, 35770)"
      ]
     },
     "execution_count": 34,
     "metadata": {},
     "output_type": "execute_result"
    }
   ],
   "source": [
    "diff, time = (get_category_count(\"difficulty\"), get_category_count(\"time\"))\n",
    "print(diff, time)\n",
    "sum(diff.values()), sum(time.values())"
   ]
  },
  {
   "cell_type": "markdown",
   "metadata": {},
   "source": [
    "### Edit #4: Rename \"special-consideration\" to \"special\""
   ]
  },
  {
   "cell_type": "code",
   "execution_count": 35,
   "metadata": {},
   "outputs": [
    {
     "data": {
      "text/plain": [
       "defaultdict(int,\n",
       "            {'Alcoholic': 1604,\n",
       "             'Dairy Free': 5915,\n",
       "             'Diabetes-Friendly': 202,\n",
       "             'Fat Free': 677,\n",
       "             'Gluten-Free': 9480,\n",
       "             'Healthy': 4098,\n",
       "             'High Fiber': 1766,\n",
       "             'Kid-Friendly': 4045,\n",
       "             'Kidney Friendly': 5241,\n",
       "             'Kosher': 12512,\n",
       "             'Kosher for Passover': 71,\n",
       "             'Low Cal': 1856,\n",
       "             'Low Carb': 572,\n",
       "             'Low Cholesterol': 760,\n",
       "             'Low Fat': 1526,\n",
       "             'Low Sodium': 681,\n",
       "             'Low Sugar': 5253,\n",
       "             'No Cook': 1755,\n",
       "             'No Sugar Added': 5808,\n",
       "             'Non-Alcoholic': 453,\n",
       "             'Nut Free': 13877,\n",
       "             'Organic': 12,\n",
       "             'Paleo': 1405,\n",
       "             'Peanut Free': 16346,\n",
       "             'Pescatarian': 12278,\n",
       "             'Raw': 138,\n",
       "             'Soy Free': 15937,\n",
       "             'Vegan': 3448,\n",
       "             'Vegetarian': 13448})"
      ]
     },
     "execution_count": 35,
     "metadata": {},
     "output_type": "execute_result"
    }
   ],
   "source": [
    "for recipe in recipes: \n",
    "    \n",
    "    try: \n",
    "        recipe['categories']['special'] = recipe['categories']['special-consideration']\n",
    "        del recipe['categories']['special-consideration']\n",
    "        \n",
    "    except: pass\n",
    "\n",
    "get_category_count(\"special\")"
   ]
  },
  {
   "cell_type": "code",
   "execution_count": 36,
   "metadata": {},
   "outputs": [
    {
     "data": {
      "text/plain": [
       "defaultdict(int, {})"
      ]
     },
     "execution_count": 36,
     "metadata": {},
     "output_type": "execute_result"
    }
   ],
   "source": [
    "get_category_count(\"special-consideration\")"
   ]
  },
  {
   "cell_type": "code",
   "execution_count": 37,
   "metadata": {},
   "outputs": [
    {
     "data": {
      "text/plain": [
       "defaultdict(int, {'Long': 224, 'Quick': 9674, 'Standard': 25872})"
      ]
     },
     "execution_count": 37,
     "metadata": {},
     "output_type": "execute_result"
    }
   ],
   "source": [
    "get_category_count(\"time\")"
   ]
  },
  {
   "cell_type": "markdown",
   "metadata": {},
   "source": [
    "### Edit #5: Dedup tag values"
   ]
  },
  {
   "cell_type": "code",
   "execution_count": 38,
   "metadata": {},
   "outputs": [],
   "source": [
    "for recipe in recipes: \n",
    "    \n",
    "    for cat in [\"meal\", \"special\", \"time\", \"difficulty\", \"ingredient\", \"cuisine\", \"occasion\"]:\n",
    "        try: \n",
    "            recipe['categories'][cat] = list(set(recipe['categories'][cat]))\n",
    "        \n",
    "        except: pass"
   ]
  },
  {
   "cell_type": "markdown",
   "metadata": {},
   "source": [
    "### Edit #6: Consistent formatting on ingredients/preperation for Elasticsearch"
   ]
  },
  {
   "cell_type": "code",
   "execution_count": 39,
   "metadata": {},
   "outputs": [],
   "source": [
    "for recipe in recipes: \n",
    "    \n",
    "    try: \n",
    "        if isinstance(recipe[\"ingredients\"][0], str): \n",
    "            recipe[\"ingredients\"] = [{\"ingredient_group_content\": recipe[\"ingredients\"], \n",
    "                                     \"ingredient_group\": \"All ingredients\"}]\n",
    "        if recipe[\"ingredients\"] is None: \n",
    "            recipe[\"ingredients\"] = [{\"ingredient_group_content\": None, \n",
    "                                     \"ingredient_group\": None}]\n",
    "    except (KeyError, IndexError):\n",
    "        pass\n",
    "    \n",
    "    try: \n",
    "        if isinstance(recipe[\"preparation\"][0], str): \n",
    "            recipe[\"preparation\"] = [{\"preparation_group_content\": recipe[\"preparation\"], \n",
    "                                     \"preparation_group\": \"All preparation steps\"}]\n",
    "        if recipe[\"preparation\"] is None: \n",
    "            recipe[\"preparation\"] = [{\"preparation_group_content\": None, \n",
    "                                     \"preparation_group\": None}]\n",
    "    \n",
    "    except (KeyError, IndexError):\n",
    "        pass"
   ]
  },
  {
   "cell_type": "code",
   "execution_count": 40,
   "metadata": {},
   "outputs": [
    {
     "data": {
      "text/plain": [
       "0"
      ]
     },
     "execution_count": 40,
     "metadata": {},
     "output_type": "execute_result"
    }
   ],
   "source": [
    "count = 0\n",
    "\n",
    "for recipe in recipes: \n",
    "    \n",
    "    try: \n",
    "        if isinstance(recipe[\"ingredients\"][0], str): \n",
    "            count += 1\n",
    "    \n",
    "    except (KeyError, IndexError):\n",
    "        \n",
    "        try:\n",
    "            if isinstance(recipe[\"preparation\"][0], str):\n",
    "                count += 1\n",
    "        \n",
    "        except (KeyError, IndexError): \n",
    "            continue\n",
    "\n",
    "count"
   ]
  },
  {
   "cell_type": "code",
   "execution_count": 18,
   "metadata": {},
   "outputs": [
    {
     "data": {
      "text/plain": [
       "[{'_recipe_id': 1,\n",
       "  'categories': {'difficulty': ['Normal'],\n",
       "   'ingredient': ['Vinegar',\n",
       "    'Egg',\n",
       "    'Cornmeal',\n",
       "    'Endive',\n",
       "    'Orange',\n",
       "    'Orange Juice',\n",
       "    'Garlic',\n",
       "    'Scallop',\n",
       "    'Avocado',\n",
       "    'Basil'],\n",
       "   'meal': ['Dinner', 'Lunch/Dinner'],\n",
       "   'occasion': ['Winter'],\n",
       "   'special': ['Dairy Free', 'Gluten-Free'],\n",
       "   'time': ['Standard'],\n",
       "   'type': ['Salad']},\n",
       "  'date': '2019-02-11T17:28:13.812Z',\n",
       "  'desc': 'Shallow-fried scallops get extra crispy on the outside and super tender inside when double-dredged in an Old Bay–seasoned cornmeal mixture. (Added bonus: they’re gluten-free.)',\n",
       "  'image_link': 'https://assets.epicurious.com/photos/5c61a910d843834ac1a6c9c7/6:4/w_274%2Ch_169/Crunchy-Scallops-on-a-Winter-Salad-recipe-30012019.jpg',\n",
       "  'ingredients': [{'ingredient_group': 'All ingredients',\n",
       "    'ingredient_group_content': ['1/2 cup cornstarch',\n",
       "     '1/2 cup fine-grind yellow cornmeal',\n",
       "     '2 tsp. Old Bay seasoning',\n",
       "     '1/2 tsp. baking powder',\n",
       "     '3 tsp. kosher salt, divided, plus more',\n",
       "     '1 tsp. freshly ground black pepper',\n",
       "     '2 large eggs',\n",
       "     '1 lb. sea scallops (about 16), side muscle removed, patted dry',\n",
       "     'Vegetable oil (for frying; about 2 cups)',\n",
       "     '1/4 cup extra-virgin olive oil',\n",
       "     '1/2 tsp. finely grated orange zest',\n",
       "     '1/4 cup fresh orange juice',\n",
       "     '2 Tbsp. white wine vinegar',\n",
       "     '1 garlic clove, finely grated',\n",
       "     '3 small or 2 large Belgian endive, root trimmed, leaves separated',\n",
       "     '3 small or 2 large oranges, peel and pith removed, cut into segments',\n",
       "     '1 avocado, sliced',\n",
       "     '1/2 cup basil leaves']}],\n",
       "  'nutrients': {'calories': 1124,\n",
       "   'carbohydrates': 1212,\n",
       "   'cholesterol': 120,\n",
       "   'fat': 59,\n",
       "   'fiber': 64,\n",
       "   'mono_fat': 8,\n",
       "   'poly_fat': 21,\n",
       "   'protein': 15,\n",
       "   'saturated_fat': 91,\n",
       "   'sodium': 9},\n",
       "  'preparation': [{'preparation_group': 'All preparation steps',\n",
       "    'preparation_group_content': ['Whisk cornstarch, cornmeal, Old Bay, baking powder, 1 tsp. salt, and 1/2 tsp. pepper in a medium bowl. Whisk eggs in another medium bowl. Season scallops with 1 tsp. salt, then use your hands to toss in cornmeal mixture until coated. Lift, shaking off excess cornmeal mixture, and transfer to egg mixture. Turn to coat, then lift, shaking off excess egg. Toss scallops to coat again in cornmeal mixture, then let them sit in mixture until ready to cook.',\n",
       "     'Pour vegetable oil into a large heavy skillet to a depth of 1/4\". Heat over medium-high until it sizzles when a pinch of cornmeal is added. Working in batches if needed, cook scallops until just cooked through and coating is golden brown, 1–2 minutes per side. Transfer to paper towels to drain. Season with salt.',\n",
       "     'Whisk olive oil, orange zest, orange juice, vinegar, garlic, and remaining 1 tsp. salt and 1/2 tsp. pepper in a large bowl. Add endive, oranges, avocado, and basil and use your hands to very gently toss to coat with dressing.',\n",
       "     'Divide salad among plates. Arrange scallops on top of salad, then pour remaining dressing over.']}],\n",
       "  'preparation_note': None,\n",
       "  'rating': 4.0,\n",
       "  'recomm_perc': 100,\n",
       "  'servings': 4,\n",
       "  'title': 'Crispy Scallop Salad',\n",
       "  'url': 'https://www.epicurious.com/recipes/food/views/crispy-scallop-salad'},\n",
       " {'_recipe_id': 2,\n",
       "  'categories': {'cuisine': ['Asian'],\n",
       "   'difficulty': ['Easy'],\n",
       "   'ingredient': ['Vinegar',\n",
       "    'Rice',\n",
       "    'Broccoli',\n",
       "    'Honey',\n",
       "    'Chicken',\n",
       "    'Soy Sauce',\n",
       "    'Sesame Oil',\n",
       "    'Ginger',\n",
       "    'Green Onion'],\n",
       "   'meal': ['Dinner', 'Small Plates', 'Lunch/Dinner'],\n",
       "   'special': ['Kid-Friendly'],\n",
       "   'tag': ['Small Plates'],\n",
       "   'time': ['Quick']},\n",
       "  'date': '2019-02-05T11:00:00.000Z',\n",
       "  'desc': 'A sweet and gingery soy sauce mixture is used to both braise and glaze skinless, boneless chicken thighs in this quick, kid-friendly dinner.',\n",
       "  'image_link': 'https://assets.epicurious.com/photos/5c574660b292f248ca3c4775/6:4/w_274%2Ch_169/SMALL-PLATES-Fast-Teriyaki-Ish-Chicken-Thighs-recipe-30012019.jpg',\n",
       "  'ingredients': [{'ingredient_group': 'All ingredients',\n",
       "    'ingredient_group_content': ['3 Tbsp. honey',\n",
       "     '3 Tbsp. soy sauce or tamari',\n",
       "     '3 Tbsp. unseasoned rice vinegar',\n",
       "     '1 tsp. finely grated ginger (from one 2\" piece)',\n",
       "     '1 Tbsp. vegetable oil',\n",
       "     '4 skinless, boneless chicken thighs',\n",
       "     '1 1/2 tsp. kosher salt, divided, plus more',\n",
       "     '1 large head of broccoli, cut into florets',\n",
       "     'Steamed rice (for serving)',\n",
       "     'Sliced scallions, toasted sesame seeds, and hot sesame oil (for serving; optional)']}],\n",
       "  'nutrients': {'calories': 481,\n",
       "   'carbohydrates': 888,\n",
       "   'cholesterol': 146,\n",
       "   'fat': 27,\n",
       "   'fiber': 13,\n",
       "   'mono_fat': 7,\n",
       "   'poly_fat': 31,\n",
       "   'protein': 6,\n",
       "   'saturated_fat': 29,\n",
       "   'sodium': 5},\n",
       "  'preparation': [{'preparation_group': 'All preparation steps',\n",
       "    'preparation_group_content': ['Whisk honey, soy sauce, vinegar, and ginger in a small bowl.',\n",
       "     'Heat oil in a large skillet over medium-high. Pat chicken dry and season with 1 tsp. salt. Cook cut side up (you want the smooth side with the most surface area to hit the pan first) until deeply golden brown, 8–10 minutes. Pour sauce over chicken and reduce heat to medium-low. Turn chicken and continue to cook, spooning sauce over occasionally, until sauce is syrupy and chicken is cooked through, 6–8 minutes more.',\n",
       "     'Meanwhile, set a steamer basket in a large pot filled with about 1\" salted water. Cover pot and bring water to a boil. Add broccoli, cover, and steam until just tender, 4–5 minutes. Season broccoli with remaining 1/2 tsp. salt.',\n",
       "     'Transfer chicken to a platter. Spoon any remaining sauce over. Serve with rice and broccoli alongside. Top chicken with scallions, sesame seeds, and sesame oil (if using).']}],\n",
       "  'preparation_note': None,\n",
       "  'rating': 3.0,\n",
       "  'recomm_perc': 67,\n",
       "  'servings': 4,\n",
       "  'title': 'Soy-Glazed Chicken with Broccoli',\n",
       "  'url': 'https://www.epicurious.com/recipes/food/views/soy-glazed-chicken-with-broccoli'},\n",
       " {'_recipe_id': 3,\n",
       "  'categories': {'difficulty': ['Easy'],\n",
       "   'ingredient': ['Vinegar', 'Rice'],\n",
       "   'meal': ['Dinner', 'Small Plates', 'Lunch/Dinner'],\n",
       "   'special': ['Kid-Friendly'],\n",
       "   'tag': ['Sunday Stash', 'Small Plates'],\n",
       "   'technique': ['Freeze'],\n",
       "   'time': ['Quick']},\n",
       "  'date': '2019-01-30T17:30:00.000Z',\n",
       "  'desc': 'This simple, large batch of seasoned rice can be frozen and repurposed in endless ways for easy, family-friendly meals.',\n",
       "  'image_link': 'https://assets.epicurious.com/photos/5c34e752dca18a525ff43744/6:4/w_274%2Ch_169/SUNDAY-STASH-JANUARY-Rice-HERO-04012019.jpg',\n",
       "  'ingredients': [{'ingredient_group': 'All ingredients',\n",
       "    'ingredient_group_content': ['1 Tbsp. plus 1½ tsp. kosher salt',\n",
       "     '1 Tbsp. distilled white vinegar or rice vinegar',\n",
       "     '2 lb. rice (about 5 cups), rinsed until water runs clear, drained']}],\n",
       "  'nutrients': {'calories': None,\n",
       "   'carbohydrates': 153,\n",
       "   'cholesterol': None,\n",
       "   'fat': 0,\n",
       "   'fiber': None,\n",
       "   'mono_fat': None,\n",
       "   'poly_fat': None,\n",
       "   'protein': None,\n",
       "   'saturated_fat': None,\n",
       "   'sodium': None},\n",
       "  'preparation': [{'preparation_group': 'All preparation steps',\n",
       "    'preparation_group_content': ['Bring 18 cups water to a boil in a large covered pot over high heat. Stir in salt and vinegar. Add rice, reduce heat to medium, and bring to a simmer. Cook, stirring occasionally, until rice is cooked through but not mushy (taste it: it should still be slightly al dente), 10–20 minutes, depending on variety of rice. Working in batches if needed, strain through a fine-mesh strainer.',\n",
       "     'If not serving immediately, spread rice in an even layer on a rimmed baking sheet and let cool. Transfer to resealable freezer bags, pat down into an even layer (so it defrosts more quickly), and freeze up to 4 months. To defrost, transfer frozen rice to a microwave-proof bowl and sprinkle with a bit of water. Cover and microwave rice on high in 1-minute bursts until warmed through. Alternately, place rice in a saucepan and add a splash of water. Cover and cook over low heat, stirring occasionally and adding more water if needed, until warmed through. If using in a soup, add frozen rice directly to soup and cook until heated through.']}],\n",
       "  'preparation_note': None,\n",
       "  'rating': 0.0,\n",
       "  'recomm_perc': 0,\n",
       "  'servings': 14,\n",
       "  'title': 'Big-Batch Rice',\n",
       "  'url': 'https://www.epicurious.com/recipes/food/views/big-batch-rice'}]"
      ]
     },
     "execution_count": 18,
     "metadata": {},
     "output_type": "execute_result"
    }
   ],
   "source": [
    "recipes[:3]"
   ]
  },
  {
   "cell_type": "markdown",
   "metadata": {},
   "source": [
    "### Edit #7: Number format in nutrients \n",
    "\n",
    "Dropped to 'inf' instead of None in 174 cases."
   ]
  },
  {
   "cell_type": "code",
   "execution_count": 42,
   "metadata": {},
   "outputs": [
    {
     "data": {
      "text/plain": [
       "174"
      ]
     },
     "execution_count": 42,
     "metadata": {},
     "output_type": "execute_result"
    }
   ],
   "source": [
    "count = 0 \n",
    "\n",
    "for recipe in recipes: \n",
    "    \n",
    "    if recipe[\"nutrients\"] is None: \n",
    "        continue\n",
    "        \n",
    "    for k,v in recipe[\"nutrients\"].items():\n",
    "        boolish = False\n",
    "        if v is None: \n",
    "            continue\n",
    "        if v > 300000: \n",
    "            boolish = True\n",
    "    \n",
    "    if boolish:\n",
    "        recipe[\"nutrients\"] = None\n",
    "        count += 1\n",
    "count"
   ]
  },
  {
   "cell_type": "markdown",
   "metadata": {},
   "source": [
    "### Edit #8: Cuisine cleaning \n",
    "\n",
    "Merge logical categories together to improve tag search."
   ]
  },
  {
   "cell_type": "code",
   "execution_count": 3,
   "metadata": {},
   "outputs": [
    {
     "data": {
      "text/plain": [
       "defaultdict(int,\n",
       "            {'African': 106,\n",
       "             'American': 5406,\n",
       "             'Argentine': 31,\n",
       "             'Ashkenazi': 13,\n",
       "             'Asian': 1408,\n",
       "             'Australian': 20,\n",
       "             'Basque': 12,\n",
       "             'Brazilian': 26,\n",
       "             'British': 45,\n",
       "             'Cajun': 201,\n",
       "             'Californian': 33,\n",
       "             'Canadian': 16,\n",
       "             'Cantonese': 1,\n",
       "             'Central': 4,\n",
       "             'Central Asian': 4,\n",
       "             'Chinese': 303,\n",
       "             'Cuban': 49,\n",
       "             'Eastern European': 176,\n",
       "             'English': 253,\n",
       "             'Ethiopian': 5,\n",
       "             'European': 159,\n",
       "             'French': 1370,\n",
       "             'French Provençal': 57,\n",
       "             'German': 102,\n",
       "             'Greek': 293,\n",
       "             'Indian': 409,\n",
       "             'Indonesian': 20,\n",
       "             'Irish': 126,\n",
       "             'Israeli': 34,\n",
       "             'Italian': 2303,\n",
       "             'Italian American': 223,\n",
       "             'Japanese': 228,\n",
       "             'Jewish': 415,\n",
       "             'Korean': 107,\n",
       "             'Latin American': 639,\n",
       "             'Mediterranean': 458,\n",
       "             'Mexican': 943,\n",
       "             'Middle Eastern': 405,\n",
       "             'Midwestern': 23,\n",
       "             'Moroccan': 197,\n",
       "             'New England': 56,\n",
       "             'Northern Italian': 28,\n",
       "             'Pacific Northwest': 12,\n",
       "             'Scandinavian': 137,\n",
       "             'Scottish': 5,\n",
       "             'Sephardic': 17,\n",
       "             'South American': 53,\n",
       "             'South Asian': 36,\n",
       "             'Southeast Asian': 142,\n",
       "             'Southern': 363,\n",
       "             'Southern Italian': 26,\n",
       "             'Southwestern': 239,\n",
       "             'Spanish': 376,\n",
       "             'Sushi': 8,\n",
       "             'Szechuan': 7,\n",
       "             'Tex-Mex': 140,\n",
       "             'Thai': 247,\n",
       "             'Turkish': 41,\n",
       "             'Vietnamese': 116})"
      ]
     },
     "execution_count": 3,
     "metadata": {},
     "output_type": "execute_result"
    }
   ],
   "source": [
    "get_category_count(\"cuisine\")"
   ]
  },
  {
   "cell_type": "code",
   "execution_count": 22,
   "metadata": {},
   "outputs": [],
   "source": [
    "#typing ... yey!\n",
    "asian = [\"Thai\", \"Indian\", \"Southeast Asian\", \"Chinese\", \"Korean\", \"Japanese\", \n",
    "        \"Indonesian\", \"Vietnamese\", \"Sushi\", \"Szechuan\", \"South Asian\", \"Cantonese\", \n",
    "         \"Central Asian\"]\n",
    "jewish = [\"Ashkenazi\", \"Sephardic\"]\n",
    "american = [\"Southern\", \"Italian American\", \"Tex-Mex\", \"New England\", \"Pacific Northwest\",\n",
    "           \"Southwestern\", \"Californian\", \"Canadian\", \"Midwestern\", \"Central\"]\n",
    "european = [\"Eastern European\", \"French\", \"German\", \"British\", \"English\", \"Scandinavian\", \n",
    "           \"Irish\", \"Scottish\"]\n",
    "european_med = [\"Italian\", \"French Provençal\", \"Spanish\", \"Turkish\", \"Greek\", \n",
    "                \"Southern Italian\", \"Northern Italian\", \"Basque\"]\n",
    "african_med = [\"Moroccan\"]\n",
    "african = [\"Cajun\", \"Ethiopian\"]\n",
    "middle_eastern = [\"Turkish\"]\n",
    "latin_american = [\"Mexican\", \"Cuban\", \"Tex-Mex\", \"Brazilian\", \"Argentine\"]\n",
    "british = [\"English\", \"Scottish\"]\n",
    "\n",
    "#sum up\n",
    "cuisines_1 = (asian, jewish, american, european, african, middle_eastern, british, latin_american)\n",
    "cuisines_1_names = (\"Asian\", \"Jewish\", \"American\", \"European\", \"African\", \"Middle Eastern\", \n",
    "                   \"British\", \"Latin American\")\n",
    "cuisines_2 = (european_med, african_med)\n",
    "cuisines_2_names = ([\"Mediterranean\", \"European\"], [\"Mediterranean\", \"African\"])"
   ]
  },
  {
   "cell_type": "code",
   "execution_count": null,
   "metadata": {},
   "outputs": [],
   "source": [
    "#quick & dirty, leads to duplicate values\n",
    "for recipe in recipes: \n",
    "    \n",
    "    try:\n",
    "        cuisine = recipe[\"categories\"][\"cuisine\"]\n",
    "        print(cuisine)\n",
    "        \n",
    "        #appending \n",
    "        for c,c_name in zip(cuisines_1,cuisines_1_names): \n",
    "\n",
    "            if any(a in cuisine for a in c): \n",
    "                recipe[\"categories\"][\"cuisine\"].append(c_name)\n",
    "        \n",
    "        #extending \n",
    "        for c,c_names in zip(cuisines_2,cuisines_2_names): \n",
    "\n",
    "            if any(a in cuisine for a in c): \n",
    "                recipe[\"categories\"][\"cuisine\"].extend(c_names)\n",
    "        \n",
    "    except KeyError: \n",
    "        continue"
   ]
  },
  {
   "cell_type": "code",
   "execution_count": 24,
   "metadata": {},
   "outputs": [
    {
     "data": {
      "text/plain": [
       "16273"
      ]
     },
     "execution_count": 24,
     "metadata": {},
     "output_type": "execute_result"
    }
   ],
   "source": [
    "#dedup again \n",
    "c = 0\n",
    "for recipe in recipes: \n",
    "    try: \n",
    "        recipe['categories']['cuisine'] = list(set(recipe['categories']['cuisine']))\n",
    "        c += 1\n",
    "    except: pass\n",
    "c"
   ]
  },
  {
   "cell_type": "markdown",
   "metadata": {},
   "source": [
    "We've got a cuisine tag for 16273 recipes, not too bad."
   ]
  },
  {
   "cell_type": "markdown",
   "metadata": {},
   "source": [
    "### Export again"
   ]
  },
  {
   "cell_type": "code",
   "execution_count": 17,
   "metadata": {},
   "outputs": [],
   "source": [
    "with open('data/recipe_urls_final_v4.json', 'a') as f:\n",
    "    json.dump(recipes, f)"
   ]
  }
 ],
 "metadata": {
  "kernelspec": {
   "display_name": "Python 3",
   "language": "python",
   "name": "python3"
  },
  "language_info": {
   "codemirror_mode": {
    "name": "ipython",
    "version": 3
   },
   "file_extension": ".py",
   "mimetype": "text/x-python",
   "name": "python",
   "nbconvert_exporter": "python",
   "pygments_lexer": "ipython3",
   "version": "3.6.4"
  }
 },
 "nbformat": 4,
 "nbformat_minor": 2
}
