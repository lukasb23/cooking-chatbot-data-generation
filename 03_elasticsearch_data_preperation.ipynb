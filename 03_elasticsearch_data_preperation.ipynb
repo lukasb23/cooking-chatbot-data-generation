{
 "cells": [
  {
   "cell_type": "markdown",
   "metadata": {},
   "source": [
    "## Data Preperation for Elasticsearch"
   ]
  },
  {
   "cell_type": "markdown",
   "metadata": {},
   "source": [
    "### Edit #1: A little bit of perfectionism <br>\n",
    "\n",
    "    sed -i 's/preparation-group/preparation_group/g' recipe_urls_final_v2.json \n",
    "\n",
    "    sed -i 's/ingredient-group/ingredient_group/g' recipe_urls_final_v2.json"
   ]
  },
  {
   "cell_type": "code",
   "execution_count": 24,
   "metadata": {},
   "outputs": [
    {
     "data": {
      "text/plain": [
       "35770"
      ]
     },
     "execution_count": 24,
     "metadata": {},
     "output_type": "execute_result"
    }
   ],
   "source": [
    "import json \n",
    "\n",
    "with open(\"data/recipe_urls_final_v2.json\", \"r\") as f:\n",
    "    recipes = json.load(f)\n",
    "\n",
    "len(recipes)"
   ]
  },
  {
   "cell_type": "code",
   "execution_count": 25,
   "metadata": {},
   "outputs": [
    {
     "data": {
      "text/plain": [
       "[{'_recipe_id': 1,\n",
       "  'categories': {'difficulty': ['Normal'],\n",
       "   'ingredient': ['Scallop',\n",
       "    'Cornmeal',\n",
       "    'Egg',\n",
       "    'Orange',\n",
       "    'Orange Juice',\n",
       "    'Vinegar',\n",
       "    'Garlic',\n",
       "    'Endive',\n",
       "    'Avocado',\n",
       "    'Basil'],\n",
       "   'meal': ['Dinner', 'Main'],\n",
       "   'occasion': ['Winter'],\n",
       "   'special-consideration': ['Dairy Free', 'Gluten-Free'],\n",
       "   'time': ['Standard'],\n",
       "   'type': ['Salad']},\n",
       "  'date': '2019-02-11T17:28:13.812Z',\n",
       "  'desc': 'Shallow-fried scallops get extra crispy on the outside and super tender inside when double-dredged in an Old Bay–seasoned cornmeal mixture. (Added bonus: they’re gluten-free.)',\n",
       "  'image_link': 'https://assets.epicurious.com/photos/5c61a910d843834ac1a6c9c7/6:4/w_274%2Ch_169/Crunchy-Scallops-on-a-Winter-Salad-recipe-30012019.jpg',\n",
       "  'ingredients': ['1/2 cup cornstarch',\n",
       "   '1/2 cup fine-grind yellow cornmeal',\n",
       "   '2 tsp. Old Bay seasoning',\n",
       "   '1/2 tsp. baking powder',\n",
       "   '3 tsp. kosher salt, divided, plus more',\n",
       "   '1 tsp. freshly ground black pepper',\n",
       "   '2 large eggs',\n",
       "   '1 lb. sea scallops (about 16), side muscle removed, patted dry',\n",
       "   'Vegetable oil (for frying; about 2 cups)',\n",
       "   '1/4 cup extra-virgin olive oil',\n",
       "   '1/2 tsp. finely grated orange zest',\n",
       "   '1/4 cup fresh orange juice',\n",
       "   '2 Tbsp. white wine vinegar',\n",
       "   '1 garlic clove, finely grated',\n",
       "   '3 small or 2 large Belgian endive, root trimmed, leaves separated',\n",
       "   '3 small or 2 large oranges, peel and pith removed, cut into segments',\n",
       "   '1 avocado, sliced',\n",
       "   '1/2 cup basil leaves'],\n",
       "  'nutrients': {'calories': 1124.0,\n",
       "   'carbohydrates': 1212.0,\n",
       "   'cholesterol': 120.0,\n",
       "   'fat': 59.0,\n",
       "   'fiber': 64.0,\n",
       "   'mono_fat': 8.0,\n",
       "   'poly_fat': 21.0,\n",
       "   'protein': 15.0,\n",
       "   'saturated_fat': 91.0,\n",
       "   'sodium': 9.0},\n",
       "  'preparation': ['Whisk cornstarch, cornmeal, Old Bay, baking powder, 1 tsp. salt, and 1/2 tsp. pepper in a medium bowl. Whisk eggs in another medium bowl. Season scallops with 1 tsp. salt, then use your hands to toss in cornmeal mixture until coated. Lift, shaking off excess cornmeal mixture, and transfer to egg mixture. Turn to coat, then lift, shaking off excess egg. Toss scallops to coat again in cornmeal mixture, then let them sit in mixture until ready to cook.',\n",
       "   'Pour vegetable oil into a large heavy skillet to a depth of 1/4\". Heat over medium-high until it sizzles when a pinch of cornmeal is added. Working in batches if needed, cook scallops until just cooked through and coating is golden brown, 1–2 minutes per side. Transfer to paper towels to drain. Season with salt.',\n",
       "   'Whisk olive oil, orange zest, orange juice, vinegar, garlic, and remaining 1 tsp. salt and 1/2 tsp. pepper in a large bowl. Add endive, oranges, avocado, and basil and use your hands to very gently toss to coat with dressing.',\n",
       "   'Divide salad among plates. Arrange scallops on top of salad, then pour remaining dressing over.'],\n",
       "  'preparation_note': None,\n",
       "  'rating': 5.0,\n",
       "  'recomm_perc': 100.0,\n",
       "  'servings': 4,\n",
       "  'title': 'Crispy Scallop Salad',\n",
       "  'url': 'https://www.epicurious.com/recipes/food/views/crispy-scallop-salad'},\n",
       " {'_recipe_id': 2,\n",
       "  'categories': {'cuisine': ['Asian'],\n",
       "   'difficulty': ['Easy'],\n",
       "   'ingredient': ['Chicken',\n",
       "    'Honey',\n",
       "    'Soy Sauce',\n",
       "    'Vinegar',\n",
       "    'Ginger',\n",
       "    'Broccoli',\n",
       "    'Rice',\n",
       "    'Green Onion',\n",
       "    'Sesame Oil'],\n",
       "   'meal': ['Dinner', 'Small Plates', 'Small Plates', 'Main'],\n",
       "   'special-consideration': ['Kid-Friendly', 'Quick', 'Easy'],\n",
       "   'tag': ['Small Plates'],\n",
       "   'time': ['Quick']},\n",
       "  'date': '2019-02-05T11:00:00.000Z',\n",
       "  'desc': 'A sweet and gingery soy sauce mixture is used to both braise and glaze skinless, boneless chicken thighs in this quick, kid-friendly dinner.',\n",
       "  'image_link': 'https://assets.epicurious.com/photos/5c574660b292f248ca3c4775/6:4/w_274%2Ch_169/SMALL-PLATES-Fast-Teriyaki-Ish-Chicken-Thighs-recipe-30012019.jpg',\n",
       "  'ingredients': ['3 Tbsp. honey',\n",
       "   '3 Tbsp. soy sauce or tamari',\n",
       "   '3 Tbsp. unseasoned rice vinegar',\n",
       "   '1 tsp. finely grated ginger (from one 2\" piece)',\n",
       "   '1 Tbsp. vegetable oil',\n",
       "   '4 skinless, boneless chicken thighs',\n",
       "   '1 1/2 tsp. kosher salt, divided, plus more',\n",
       "   '1 large head of broccoli, cut into florets',\n",
       "   'Steamed rice (for serving)',\n",
       "   'Sliced scallions, toasted sesame seeds, and hot sesame oil (for serving; optional)'],\n",
       "  'nutrients': {'calories': 481.0,\n",
       "   'carbohydrates': 888.0,\n",
       "   'cholesterol': 146.0,\n",
       "   'fat': 27.0,\n",
       "   'fiber': 13.0,\n",
       "   'mono_fat': 7.0,\n",
       "   'poly_fat': 31.0,\n",
       "   'protein': 6.0,\n",
       "   'saturated_fat': 29.0,\n",
       "   'sodium': 5.0},\n",
       "  'preparation': ['Whisk honey, soy sauce, vinegar, and ginger in a small bowl.',\n",
       "   'Heat oil in a large skillet over medium-high. Pat chicken dry and season with 1 tsp. salt. Cook cut side up (you want the smooth side with the most surface area to hit the pan first) until deeply golden brown, 8–10 minutes. Pour sauce over chicken and reduce heat to medium-low. Turn chicken and continue to cook, spooning sauce over occasionally, until sauce is syrupy and chicken is cooked through, 6–8 minutes more.',\n",
       "   'Meanwhile, set a steamer basket in a large pot filled with about 1\" salted water. Cover pot and bring water to a boil. Add broccoli, cover, and steam until just tender, 4–5 minutes. Season broccoli with remaining 1/2 tsp. salt.',\n",
       "   'Transfer chicken to a platter. Spoon any remaining sauce over. Serve with rice and broccoli alongside. Top chicken with scallions, sesame seeds, and sesame oil (if using).'],\n",
       "  'preparation_note': None,\n",
       "  'rating': 3.75,\n",
       "  'recomm_perc': 67.0,\n",
       "  'servings': 4,\n",
       "  'title': 'Soy-Glazed Chicken with Broccoli',\n",
       "  'url': 'https://www.epicurious.com/recipes/food/views/soy-glazed-chicken-with-broccoli'},\n",
       " {'_recipe_id': 3,\n",
       "  'categories': {'difficulty': ['Easy'],\n",
       "   'ingredient': ['Rice', 'Vinegar'],\n",
       "   'meal': ['Dinner', 'Small Plates', 'Small Plates', 'Main'],\n",
       "   'special-consideration': ['Kid-Friendly', 'Quick', 'Easy'],\n",
       "   'tag': ['Sunday Stash', 'Small Plates'],\n",
       "   'technique': ['Freeze'],\n",
       "   'time': ['Quick']},\n",
       "  'date': '2019-01-30T17:30:00.000Z',\n",
       "  'desc': 'This simple, large batch of seasoned rice can be frozen and repurposed in endless ways for easy, family-friendly meals.',\n",
       "  'image_link': 'https://assets.epicurious.com/photos/5c34e752dca18a525ff43744/6:4/w_274%2Ch_169/SUNDAY-STASH-JANUARY-Rice-HERO-04012019.jpg',\n",
       "  'ingredients': ['1 Tbsp. plus 1½ tsp. kosher salt',\n",
       "   '1 Tbsp. distilled white vinegar or rice vinegar',\n",
       "   '2 lb. rice (about 5 cups), rinsed until water runs clear, drained'],\n",
       "  'nutrients': {'calories': None,\n",
       "   'carbohydrates': 153.0,\n",
       "   'cholesterol': None,\n",
       "   'fat': 0.0,\n",
       "   'fiber': None,\n",
       "   'mono_fat': None,\n",
       "   'poly_fat': None,\n",
       "   'protein': None,\n",
       "   'saturated_fat': None,\n",
       "   'sodium': None},\n",
       "  'preparation': ['Bring 18 cups water to a boil in a large covered pot over high heat. Stir in salt and vinegar. Add rice, reduce heat to medium, and bring to a simmer. Cook, stirring occasionally, until rice is cooked through but not mushy (taste it: it should still be slightly al dente), 10–20 minutes, depending on variety of rice. Working in batches if needed, strain through a fine-mesh strainer.',\n",
       "   'If not serving immediately, spread rice in an even layer on a rimmed baking sheet and let cool. Transfer to resealable freezer bags, pat down into an even layer (so it defrosts more quickly), and freeze up to 4 months. To defrost, transfer frozen rice to a microwave-proof bowl and sprinkle with a bit of water. Cover and microwave rice on high in 1-minute bursts until warmed through. Alternately, place rice in a saucepan and add a splash of water. Cover and cook over low heat, stirring occasionally and adding more water if needed, until warmed through. If using in a soup, add frozen rice directly to soup and cook until heated through.'],\n",
       "  'preparation_note': None,\n",
       "  'rating': 0.0,\n",
       "  'recomm_perc': 0.0,\n",
       "  'servings': 14,\n",
       "  'title': 'Big-Batch Rice',\n",
       "  'url': 'https://www.epicurious.com/recipes/food/views/big-batch-rice'},\n",
       " {'_recipe_id': 4,\n",
       "  'categories': {'difficulty': ['Normal'], 'time': ['Standard']},\n",
       "  'date': '2019-01-28T21:22:48.416Z',\n",
       "  'desc': 'For a gluten-free version, toss the shallots in cornstarch rather than flour.',\n",
       "  'image_link': 'https://assets.epicurious.com/photos/5c4a356b227df049c4c48c04/6:4/w_274%2Ch_169/18_Campbells_Epi_NativeDistro_16x9.jpg',\n",
       "  'ingredients': [{'ingredient_group': 'Fried Shallots',\n",
       "    'ingredient_group_content': ['Extra-virgin olive oil',\n",
       "     '4 shallots, thinly sliced into rings',\n",
       "     '1/4 cup unbleached all-purpose flour']},\n",
       "   {'ingredient_group': 'Soup',\n",
       "    'ingredient_group_content': ['2 tablespoons extra virgin olive oil',\n",
       "     '2 bone-in, skin-on chicken thighs',\n",
       "     'Kosher salt and freshly ground pepper',\n",
       "     'One 2-inch piece of ginger, peeled and finely chopped, (1 tablespoon)',\n",
       "     '1/4 tsp. ground cumin',\n",
       "     '1 tsp. ground tumeric',\n",
       "     '4 cups Swanson Chicken Broth',\n",
       "     '8 ounces vermicelli rice noodles or thin spaghetti',\n",
       "     '1 cup leafy herbs, such as cilantro, dill and basil']}],\n",
       "  'nutrients': {'calories': 260.0,\n",
       "   'carbohydrates': 425.0,\n",
       "   'cholesterol': 32.0,\n",
       "   'fat': 29.0,\n",
       "   'fiber': 6.0,\n",
       "   'mono_fat': 2.0,\n",
       "   'poly_fat': 10.0,\n",
       "   'protein': 2.0,\n",
       "   'saturated_fat': 11.0,\n",
       "   'sodium': 1.0},\n",
       "  'preparation': ['Make the fried shallots: In a small skillet, heat ¼-inch of oil until shimmering. Working in small batches, add a handful of shallots, and cook, turning frequently, until golden, about 1 minute. Using a slotted spoon, transfer fried shallots to a paper towel lined plate.',\n",
       "   'Make the soup: In a medium pot, heat the oil over medium-high. Add the chicken and brown on both sides, about 4 minutes per side. Remove the chicken to a plate.',\n",
       "   'Reduce the heat to medium and add the ginger, turmeric, and cumin. Cook, stirring constantly, until fragrant, about 1 minute.',\n",
       "   'Pour the broth into the pot and return the chicken. Bring to a boil and then reduce to medium-low. Cover and gently simmer until the chicken breasts are just cooked through, about 10 to 12 minutes. Turn off heat. Using tongs or a slotted spoon remove the chicken breast to a plate and let cool slightly. Discard skin and bones and shred chicken meat. Keep warm.',\n",
       "   'Meanwhile, bring a large pot of salted water to a boil. Add the rice noodles or thin spaghetti and cook until al dente per package instructions. Drain.',\n",
       "   'Add noodles to broth and serve brothy noodles topped with pulled chicken, herbs, fried shallots, and black pepper.'],\n",
       "  'preparation_note': None,\n",
       "  'rating': None,\n",
       "  'recomm_perc': None,\n",
       "  'servings': 10,\n",
       "  'title': 'Golden Noodles With Chicken',\n",
       "  'url': 'https://www.epicurious.com/recipes/food/views/golden-noodles-with-chicken'},\n",
       " {'_recipe_id': 5,\n",
       "  'categories': {'cuisine': ['Italian'],\n",
       "   'difficulty': ['Normal'],\n",
       "   'ingredient': ['Carrot',\n",
       "    'Onion',\n",
       "    'Garlic',\n",
       "    'Grains',\n",
       "    'Barley',\n",
       "    'Rice',\n",
       "    'Coriander',\n",
       "    'Lentil',\n",
       "    'Kale',\n",
       "    'Parmesan'],\n",
       "   'meal': ['Dinner', 'Main'],\n",
       "   'occasion': ['Winter'],\n",
       "   'special-consideration': ['Vegetarian', 'Healthy'],\n",
       "   'time': ['Standard'],\n",
       "   'type': ['Soup/Stew', 'Bread']},\n",
       "  'date': '2019-01-23T21:31:43.109Z',\n",
       "  'desc': 'This is the ultimate “nothing in the house to eat” dinner that just happens to be vegetarian and extremely nourishing. If you have homemade chicken or vegetable stock on hand, don’t hesitate to use it instead of water. That said, you’ll get an incredible amount of flavor from the soffritto, lentils, and kale alone.',\n",
       "  'image_link': \"https://assets.epicurious.com/photos/5c5082f2cbdbeb2cc490e215/6:4/w_274%2Ch_169/Carla's-Lentil-and-Greens-Soup-recipe-2-01162019.jpg\",\n",
       "  'ingredients': ['2 medium carrots, coarsely chopped',\n",
       "   '1 large onion, coarsely chopped',\n",
       "   '5 garlic cloves, peeled',\n",
       "   '1/2 cup extra-virgin olive oil',\n",
       "   '2 1/2 tsp. kosher salt, divided, plus more',\n",
       "   '1/2 tsp. freshly ground black pepper',\n",
       "   '3/4 cup wheat berries, spelt, unhulled barley, or short grain brown rice (do not use pearled grains)',\n",
       "   '1 tsp. coriander seeds, coarsely crushed',\n",
       "   '1 tsp. ground turmeric',\n",
       "   '2 dried bay leaves',\n",
       "   '3/4 cup French green lentils, rinsed',\n",
       "   '2 bunches curly green kale, stems and ribs removed, leaves torn into 2\" pieces',\n",
       "   'Finely grated Parmesan and toasted crusty bread (for serving)'],\n",
       "  'nutrients': {'calories': 388.0,\n",
       "   'carbohydrates': 423.0,\n",
       "   'cholesterol': None,\n",
       "   'fat': 45.0,\n",
       "   'fiber': 13.0,\n",
       "   'mono_fat': 3.0,\n",
       "   'poly_fat': 11.0,\n",
       "   'protein': 3.0,\n",
       "   'saturated_fat': 20.0,\n",
       "   'sodium': 7.0},\n",
       "  'preparation': ['Pulse carrots, onion, and garlic in a food processor until finely chopped. Heat oil in a 6-quart stockpot or Dutch oven over medium, then add vegetables; season with 1 tsp. salt and 1/2 tsp. pepper, stirring to coat. Cook, stirring occasionally, until vegetables begin to look juicy, about 3 minutes. Partially cover with a lid, reduce heat to medium-low, and cook, stirring occasionally, until vegetables are completely tender but have not taken on any color, 10–12 minutes.',\n",
       "   'Add wheat berries, coriander, turmeric, and bay leaves and stir to combine. Cook until bottom of pot is just starting to brown, about 2 minutes. Add 10 cups water and bring to a boil over medium-high heat. Season with 1 1/2 tsp. salt, then reduce heat to medium-low and bring to a simmer. Cook, uncovered and stirring occasionally, until grains show signs of softening but are nowhere near done, about 15 minutes. Add lentils and kale and stir well to combine. Kale should be submerged; add another cup of water if needed. Partially cover pot and cook, stirring occasionally, until lentils and grains are tender and kale is very silky, 40–45 minutes more. Pluck out bay leaves. Taste and season with more salt and pepper if needed.',\n",
       "   'Divide soup among bowls. Serve with Parmesan for sprinkling over and bread for dunking.'],\n",
       "  'preparation_note': None,\n",
       "  'rating': 3.125,\n",
       "  'recomm_perc': 33.0,\n",
       "  'servings': 6,\n",
       "  'title': 'Lentil Soup with Wheat Berries and Kale',\n",
       "  'url': 'https://www.epicurious.com/recipes/food/views/lentil-soup-with-wheat-berries-and-kale'}]"
      ]
     },
     "execution_count": 25,
     "metadata": {},
     "output_type": "execute_result"
    }
   ],
   "source": [
    "recipes[:5]"
   ]
  },
  {
   "cell_type": "code",
   "execution_count": 6,
   "metadata": {},
   "outputs": [],
   "source": [
    "from collections import defaultdict as dd \n",
    "\n",
    "def get_category_count(category):\n",
    "    \n",
    "    dict_count = dd(int)\n",
    "\n",
    "    for recipe in recipes:\n",
    "\n",
    "        try: \n",
    "            cats = recipe[\"categories\"][category]\n",
    "            for c in cats:\n",
    "                dict_count[c] += 1\n",
    "\n",
    "        except (TypeError, KeyError):\n",
    "            continue\n",
    "\n",
    "    return dict_count"
   ]
  },
  {
   "cell_type": "markdown",
   "metadata": {},
   "source": [
    "### Edit #2: Create \"Main\" Course Category in meals"
   ]
  },
  {
   "cell_type": "code",
   "execution_count": 26,
   "metadata": {},
   "outputs": [],
   "source": [
    "for recipe in recipes: \n",
    "    \n",
    "    try: \n",
    "        meals = recipe['categories']['meal']\n",
    "        \n",
    "        #if either lunch or dinner, make extra category \"main\"\n",
    "        if any(meal in [\"Lunch\", \"Dinner\"] for meal in meals):  \n",
    "            recipe['categories']['meal'].append(\"Main\")\n",
    "                \n",
    "    except: \n",
    "        continue"
   ]
  },
  {
   "cell_type": "code",
   "execution_count": 27,
   "metadata": {},
   "outputs": [
    {
     "data": {
      "text/plain": [
       "defaultdict(int,\n",
       "            {'Appetizer': 2906,\n",
       "             'Breakfast': 2179,\n",
       "             'Buffet': 229,\n",
       "             'Dessert': 7396,\n",
       "             'Dinner': 5117,\n",
       "             'Drink': 2168,\n",
       "             'Lunch': 2479,\n",
       "             'Main': 12982,\n",
       "             'Side': 5776,\n",
       "             'Small Plates': 7958,\n",
       "             'Snack': 314,\n",
       "             'leftovers': 18})"
      ]
     },
     "execution_count": 27,
     "metadata": {},
     "output_type": "execute_result"
    }
   ],
   "source": [
    "get_category_count(\"meal\")"
   ]
  },
  {
   "cell_type": "markdown",
   "metadata": {},
   "source": [
    "### Edit #3: Create \"Quickness\" & \"Easiness\" Category"
   ]
  },
  {
   "cell_type": "code",
   "execution_count": 28,
   "metadata": {},
   "outputs": [
    {
     "data": {
      "text/plain": [
       "defaultdict(int,\n",
       "            {'Advance Prep Required': 224,\n",
       "             'Alcoholic': 1604,\n",
       "             'Dairy Free': 5915,\n",
       "             'Diabetes-Friendly': 202,\n",
       "             'Easy': 9591,\n",
       "             'Fat Free': 677,\n",
       "             'Gluten-Free': 9480,\n",
       "             'Healthy': 4098,\n",
       "             'High Fiber': 1766,\n",
       "             'Kid-Friendly': 4045,\n",
       "             'Kidney Friendly': 5241,\n",
       "             'Kosher': 12512,\n",
       "             'Kosher for Passover': 71,\n",
       "             'Low Cal': 1856,\n",
       "             'Low Carb': 572,\n",
       "             'Low Cholesterol': 760,\n",
       "             'Low Fat': 1526,\n",
       "             'Low Sodium': 681,\n",
       "             'Low Sugar': 5253,\n",
       "             'No Cook': 1755,\n",
       "             'No Sugar Added': 5808,\n",
       "             'Non-Alcoholic': 453,\n",
       "             'Nut Free': 13877,\n",
       "             'Organic': 12,\n",
       "             'Paleo': 1405,\n",
       "             'Peanut Free': 16346,\n",
       "             'Pescatarian': 12278,\n",
       "             'Quick': 10001,\n",
       "             'Raw': 138,\n",
       "             'Soy Free': 15937,\n",
       "             'Vegan': 3448,\n",
       "             'Vegetarian': 13448})"
      ]
     },
     "execution_count": 28,
     "metadata": {},
     "output_type": "execute_result"
    }
   ],
   "source": [
    "get_category_count(\"special-consideration\")"
   ]
  },
  {
   "cell_type": "code",
   "execution_count": 29,
   "metadata": {},
   "outputs": [],
   "source": [
    "for recipe in recipes: \n",
    "    \n",
    "    try: \n",
    "        specials = recipe['categories']['special-consideration']\n",
    "        \n",
    "        #if either lunch or dinner, make extra category \"main\"\n",
    "        if \"Easy\" in specials:  \n",
    "            recipe['categories']['difficulty'] = [\"Easy\"]\n",
    "            recipe['categories']['special-consideration'].remove(\"Easy\")\n",
    "        else: \n",
    "            recipe['categories']['difficulty'] = [\"Normal\"]\n",
    "        \n",
    "        if \"Quick\" in specials:  \n",
    "            recipe['categories']['time'] = [\"Quick\"]\n",
    "            recipe['categories']['special-consideration'].remove(\"Quick\")\n",
    "        else: \n",
    "            recipe['categories']['time'] = [\"Standard\"]\n",
    "        if \"Advance Prep Required\" in specials:  \n",
    "            recipe['categories']['time'] = [\"Long\"]\n",
    "            recipe['categories']['special-consideration'].remove(\"Advance Prep Required\")\n",
    "    \n",
    "    #no specials\n",
    "    except (TypeError, KeyError): \n",
    "        \n",
    "        try:  \n",
    "            recipe['categories']['difficulty'] = [\"Normal\"]\n",
    "            recipe['categories']['time'] = [\"Standard\"]\n",
    "        \n",
    "        #no categories\n",
    "        except (TypeError, KeyError): \n",
    "            recipe['categories'] = {\"difficulty\": \"Normal\", \"time\": \"Standard\"}"
   ]
  },
  {
   "cell_type": "code",
   "execution_count": 32,
   "metadata": {},
   "outputs": [],
   "source": [
    "for recipe in recipes: \n",
    "    \n",
    "    #remove duplicates\n",
    "    try: \n",
    "        recipe['categories']['special-consideration'].remove(\"Quick\")\n",
    "    except: pass"
   ]
  },
  {
   "cell_type": "code",
   "execution_count": 33,
   "metadata": {},
   "outputs": [
    {
     "data": {
      "text/plain": [
       "defaultdict(int,\n",
       "            {'Alcoholic': 1604,\n",
       "             'Dairy Free': 5915,\n",
       "             'Diabetes-Friendly': 202,\n",
       "             'Fat Free': 677,\n",
       "             'Gluten-Free': 9480,\n",
       "             'Healthy': 4098,\n",
       "             'High Fiber': 1766,\n",
       "             'Kid-Friendly': 4045,\n",
       "             'Kidney Friendly': 5241,\n",
       "             'Kosher': 12512,\n",
       "             'Kosher for Passover': 71,\n",
       "             'Low Cal': 1856,\n",
       "             'Low Carb': 572,\n",
       "             'Low Cholesterol': 760,\n",
       "             'Low Fat': 1526,\n",
       "             'Low Sodium': 681,\n",
       "             'Low Sugar': 5253,\n",
       "             'No Cook': 1755,\n",
       "             'No Sugar Added': 5808,\n",
       "             'Non-Alcoholic': 453,\n",
       "             'Nut Free': 13877,\n",
       "             'Organic': 12,\n",
       "             'Paleo': 1405,\n",
       "             'Peanut Free': 16346,\n",
       "             'Pescatarian': 12278,\n",
       "             'Raw': 138,\n",
       "             'Soy Free': 15937,\n",
       "             'Vegan': 3448,\n",
       "             'Vegetarian': 13448})"
      ]
     },
     "execution_count": 33,
     "metadata": {},
     "output_type": "execute_result"
    }
   ],
   "source": [
    "get_category_count(\"special-consideration\")"
   ]
  },
  {
   "cell_type": "code",
   "execution_count": 34,
   "metadata": {},
   "outputs": [
    {
     "name": "stdout",
     "output_type": "stream",
     "text": [
      "defaultdict(<class 'int'>, {'Normal': 26179, 'Easy': 9591}) defaultdict(<class 'int'>, {'Standard': 25872, 'Quick': 9674, 'Long': 224})\n"
     ]
    },
    {
     "data": {
      "text/plain": [
       "(35770, 35770)"
      ]
     },
     "execution_count": 34,
     "metadata": {},
     "output_type": "execute_result"
    }
   ],
   "source": [
    "diff, time = (get_category_count(\"difficulty\"), get_category_count(\"time\"))\n",
    "print(diff, time)\n",
    "sum(diff.values()), sum(time.values())"
   ]
  },
  {
   "cell_type": "markdown",
   "metadata": {},
   "source": [
    "### Edit #4: Rename \"special-consideration\" to \"special\""
   ]
  },
  {
   "cell_type": "code",
   "execution_count": 35,
   "metadata": {},
   "outputs": [
    {
     "data": {
      "text/plain": [
       "defaultdict(int,\n",
       "            {'Alcoholic': 1604,\n",
       "             'Dairy Free': 5915,\n",
       "             'Diabetes-Friendly': 202,\n",
       "             'Fat Free': 677,\n",
       "             'Gluten-Free': 9480,\n",
       "             'Healthy': 4098,\n",
       "             'High Fiber': 1766,\n",
       "             'Kid-Friendly': 4045,\n",
       "             'Kidney Friendly': 5241,\n",
       "             'Kosher': 12512,\n",
       "             'Kosher for Passover': 71,\n",
       "             'Low Cal': 1856,\n",
       "             'Low Carb': 572,\n",
       "             'Low Cholesterol': 760,\n",
       "             'Low Fat': 1526,\n",
       "             'Low Sodium': 681,\n",
       "             'Low Sugar': 5253,\n",
       "             'No Cook': 1755,\n",
       "             'No Sugar Added': 5808,\n",
       "             'Non-Alcoholic': 453,\n",
       "             'Nut Free': 13877,\n",
       "             'Organic': 12,\n",
       "             'Paleo': 1405,\n",
       "             'Peanut Free': 16346,\n",
       "             'Pescatarian': 12278,\n",
       "             'Raw': 138,\n",
       "             'Soy Free': 15937,\n",
       "             'Vegan': 3448,\n",
       "             'Vegetarian': 13448})"
      ]
     },
     "execution_count": 35,
     "metadata": {},
     "output_type": "execute_result"
    }
   ],
   "source": [
    "for recipe in recipes: \n",
    "    \n",
    "    try: \n",
    "        recipe['categories']['special'] = recipe['categories']['special-consideration']\n",
    "        del recipe['categories']['special-consideration']\n",
    "        \n",
    "    except: pass\n",
    "\n",
    "get_category_count(\"special\")"
   ]
  },
  {
   "cell_type": "code",
   "execution_count": 36,
   "metadata": {},
   "outputs": [
    {
     "data": {
      "text/plain": [
       "defaultdict(int, {})"
      ]
     },
     "execution_count": 36,
     "metadata": {},
     "output_type": "execute_result"
    }
   ],
   "source": [
    "get_category_count(\"special-consideration\")"
   ]
  },
  {
   "cell_type": "code",
   "execution_count": 37,
   "metadata": {},
   "outputs": [
    {
     "data": {
      "text/plain": [
       "defaultdict(int, {'Long': 224, 'Quick': 9674, 'Standard': 25872})"
      ]
     },
     "execution_count": 37,
     "metadata": {},
     "output_type": "execute_result"
    }
   ],
   "source": [
    "get_category_count(\"time\")"
   ]
  },
  {
   "cell_type": "markdown",
   "metadata": {},
   "source": [
    "### Edit #5: Dedup tag values"
   ]
  },
  {
   "cell_type": "code",
   "execution_count": 38,
   "metadata": {},
   "outputs": [],
   "source": [
    "for recipe in recipes: \n",
    "    \n",
    "    for cat in [\"meal\", \"special\", \"time\", \"difficulty\", \"ingredient\", \"cuisine\", \"occasion\"]:\n",
    "        try: \n",
    "            recipe['categories'][cat] = list(set(recipe['categories'][cat]))\n",
    "        \n",
    "        except: pass"
   ]
  },
  {
   "cell_type": "markdown",
   "metadata": {},
   "source": [
    "### Edit #6: Consistent formatting on ingredients/preperation for Elasticsearch"
   ]
  },
  {
   "cell_type": "code",
   "execution_count": 39,
   "metadata": {},
   "outputs": [],
   "source": [
    "for recipe in recipes: \n",
    "    \n",
    "    try: \n",
    "        if isinstance(recipe[\"ingredients\"][0], str): \n",
    "            recipe[\"ingredients\"] = [{\"ingredient_group_content\": recipe[\"ingredients\"], \n",
    "                                     \"ingredient_group\": \"All ingredients\"}]\n",
    "        if recipe[\"ingredients\"] is None: \n",
    "            recipe[\"ingredients\"] = [{\"ingredient_group_content\": None, \n",
    "                                     \"ingredient_group\": None}]\n",
    "    except (KeyError, IndexError):\n",
    "        pass\n",
    "    \n",
    "    try: \n",
    "        if isinstance(recipe[\"preparation\"][0], str): \n",
    "            recipe[\"preparation\"] = [{\"preparation_group_content\": recipe[\"preparation\"], \n",
    "                                     \"preparation_group\": \"All preparation steps\"}]\n",
    "        if recipe[\"preparation\"] is None: \n",
    "            recipe[\"preparation\"] = [{\"preparation_group_content\": None, \n",
    "                                     \"preparation_group\": None}]\n",
    "    \n",
    "    except (KeyError, IndexError):\n",
    "        pass"
   ]
  },
  {
   "cell_type": "code",
   "execution_count": 40,
   "metadata": {},
   "outputs": [
    {
     "data": {
      "text/plain": [
       "0"
      ]
     },
     "execution_count": 40,
     "metadata": {},
     "output_type": "execute_result"
    }
   ],
   "source": [
    "count = 0\n",
    "\n",
    "for recipe in recipes: \n",
    "    \n",
    "    try: \n",
    "        if isinstance(recipe[\"ingredients\"][0], str): \n",
    "            count += 1\n",
    "    \n",
    "    except (KeyError, IndexError):\n",
    "        \n",
    "        try:\n",
    "            if isinstance(recipe[\"preparation\"][0], str):\n",
    "                count += 1\n",
    "        \n",
    "        except (KeyError, IndexError): \n",
    "            continue\n",
    "\n",
    "count"
   ]
  },
  {
   "cell_type": "code",
   "execution_count": 41,
   "metadata": {},
   "outputs": [
    {
     "data": {
      "text/plain": [
       "[{'_recipe_id': 1,\n",
       "  'categories': {'difficulty': ['Normal'],\n",
       "   'ingredient': ['Vinegar',\n",
       "    'Egg',\n",
       "    'Cornmeal',\n",
       "    'Endive',\n",
       "    'Orange',\n",
       "    'Orange Juice',\n",
       "    'Garlic',\n",
       "    'Scallop',\n",
       "    'Avocado',\n",
       "    'Basil'],\n",
       "   'meal': ['Dinner', 'Main'],\n",
       "   'occasion': ['Winter'],\n",
       "   'special': ['Dairy Free', 'Gluten-Free'],\n",
       "   'time': ['Standard'],\n",
       "   'type': ['Salad']},\n",
       "  'date': '2019-02-11T17:28:13.812Z',\n",
       "  'desc': 'Shallow-fried scallops get extra crispy on the outside and super tender inside when double-dredged in an Old Bay–seasoned cornmeal mixture. (Added bonus: they’re gluten-free.)',\n",
       "  'image_link': 'https://assets.epicurious.com/photos/5c61a910d843834ac1a6c9c7/6:4/w_274%2Ch_169/Crunchy-Scallops-on-a-Winter-Salad-recipe-30012019.jpg',\n",
       "  'ingredients': [{'ingredient_group': 'All ingredients',\n",
       "    'ingredient_group_content': ['1/2 cup cornstarch',\n",
       "     '1/2 cup fine-grind yellow cornmeal',\n",
       "     '2 tsp. Old Bay seasoning',\n",
       "     '1/2 tsp. baking powder',\n",
       "     '3 tsp. kosher salt, divided, plus more',\n",
       "     '1 tsp. freshly ground black pepper',\n",
       "     '2 large eggs',\n",
       "     '1 lb. sea scallops (about 16), side muscle removed, patted dry',\n",
       "     'Vegetable oil (for frying; about 2 cups)',\n",
       "     '1/4 cup extra-virgin olive oil',\n",
       "     '1/2 tsp. finely grated orange zest',\n",
       "     '1/4 cup fresh orange juice',\n",
       "     '2 Tbsp. white wine vinegar',\n",
       "     '1 garlic clove, finely grated',\n",
       "     '3 small or 2 large Belgian endive, root trimmed, leaves separated',\n",
       "     '3 small or 2 large oranges, peel and pith removed, cut into segments',\n",
       "     '1 avocado, sliced',\n",
       "     '1/2 cup basil leaves']}],\n",
       "  'nutrients': {'calories': 1124.0,\n",
       "   'carbohydrates': 1212.0,\n",
       "   'cholesterol': 120.0,\n",
       "   'fat': 59.0,\n",
       "   'fiber': 64.0,\n",
       "   'mono_fat': 8.0,\n",
       "   'poly_fat': 21.0,\n",
       "   'protein': 15.0,\n",
       "   'saturated_fat': 91.0,\n",
       "   'sodium': 9.0},\n",
       "  'preparation': [{'preparation_group': 'All preparation steps',\n",
       "    'preparation_group_content': ['Whisk cornstarch, cornmeal, Old Bay, baking powder, 1 tsp. salt, and 1/2 tsp. pepper in a medium bowl. Whisk eggs in another medium bowl. Season scallops with 1 tsp. salt, then use your hands to toss in cornmeal mixture until coated. Lift, shaking off excess cornmeal mixture, and transfer to egg mixture. Turn to coat, then lift, shaking off excess egg. Toss scallops to coat again in cornmeal mixture, then let them sit in mixture until ready to cook.',\n",
       "     'Pour vegetable oil into a large heavy skillet to a depth of 1/4\". Heat over medium-high until it sizzles when a pinch of cornmeal is added. Working in batches if needed, cook scallops until just cooked through and coating is golden brown, 1–2 minutes per side. Transfer to paper towels to drain. Season with salt.',\n",
       "     'Whisk olive oil, orange zest, orange juice, vinegar, garlic, and remaining 1 tsp. salt and 1/2 tsp. pepper in a large bowl. Add endive, oranges, avocado, and basil and use your hands to very gently toss to coat with dressing.',\n",
       "     'Divide salad among plates. Arrange scallops on top of salad, then pour remaining dressing over.']}],\n",
       "  'preparation_note': None,\n",
       "  'rating': 5.0,\n",
       "  'recomm_perc': 100.0,\n",
       "  'servings': 4,\n",
       "  'title': 'Crispy Scallop Salad',\n",
       "  'url': 'https://www.epicurious.com/recipes/food/views/crispy-scallop-salad'},\n",
       " {'_recipe_id': 2,\n",
       "  'categories': {'cuisine': ['Asian'],\n",
       "   'difficulty': ['Easy'],\n",
       "   'ingredient': ['Vinegar',\n",
       "    'Rice',\n",
       "    'Broccoli',\n",
       "    'Honey',\n",
       "    'Chicken',\n",
       "    'Soy Sauce',\n",
       "    'Sesame Oil',\n",
       "    'Ginger',\n",
       "    'Green Onion'],\n",
       "   'meal': ['Dinner', 'Small Plates', 'Main'],\n",
       "   'special': ['Kid-Friendly'],\n",
       "   'tag': ['Small Plates'],\n",
       "   'time': ['Quick']},\n",
       "  'date': '2019-02-05T11:00:00.000Z',\n",
       "  'desc': 'A sweet and gingery soy sauce mixture is used to both braise and glaze skinless, boneless chicken thighs in this quick, kid-friendly dinner.',\n",
       "  'image_link': 'https://assets.epicurious.com/photos/5c574660b292f248ca3c4775/6:4/w_274%2Ch_169/SMALL-PLATES-Fast-Teriyaki-Ish-Chicken-Thighs-recipe-30012019.jpg',\n",
       "  'ingredients': [{'ingredient_group': 'All ingredients',\n",
       "    'ingredient_group_content': ['3 Tbsp. honey',\n",
       "     '3 Tbsp. soy sauce or tamari',\n",
       "     '3 Tbsp. unseasoned rice vinegar',\n",
       "     '1 tsp. finely grated ginger (from one 2\" piece)',\n",
       "     '1 Tbsp. vegetable oil',\n",
       "     '4 skinless, boneless chicken thighs',\n",
       "     '1 1/2 tsp. kosher salt, divided, plus more',\n",
       "     '1 large head of broccoli, cut into florets',\n",
       "     'Steamed rice (for serving)',\n",
       "     'Sliced scallions, toasted sesame seeds, and hot sesame oil (for serving; optional)']}],\n",
       "  'nutrients': {'calories': 481.0,\n",
       "   'carbohydrates': 888.0,\n",
       "   'cholesterol': 146.0,\n",
       "   'fat': 27.0,\n",
       "   'fiber': 13.0,\n",
       "   'mono_fat': 7.0,\n",
       "   'poly_fat': 31.0,\n",
       "   'protein': 6.0,\n",
       "   'saturated_fat': 29.0,\n",
       "   'sodium': 5.0},\n",
       "  'preparation': [{'preparation_group': 'All preparation steps',\n",
       "    'preparation_group_content': ['Whisk honey, soy sauce, vinegar, and ginger in a small bowl.',\n",
       "     'Heat oil in a large skillet over medium-high. Pat chicken dry and season with 1 tsp. salt. Cook cut side up (you want the smooth side with the most surface area to hit the pan first) until deeply golden brown, 8–10 minutes. Pour sauce over chicken and reduce heat to medium-low. Turn chicken and continue to cook, spooning sauce over occasionally, until sauce is syrupy and chicken is cooked through, 6–8 minutes more.',\n",
       "     'Meanwhile, set a steamer basket in a large pot filled with about 1\" salted water. Cover pot and bring water to a boil. Add broccoli, cover, and steam until just tender, 4–5 minutes. Season broccoli with remaining 1/2 tsp. salt.',\n",
       "     'Transfer chicken to a platter. Spoon any remaining sauce over. Serve with rice and broccoli alongside. Top chicken with scallions, sesame seeds, and sesame oil (if using).']}],\n",
       "  'preparation_note': None,\n",
       "  'rating': 3.75,\n",
       "  'recomm_perc': 67.0,\n",
       "  'servings': 4,\n",
       "  'title': 'Soy-Glazed Chicken with Broccoli',\n",
       "  'url': 'https://www.epicurious.com/recipes/food/views/soy-glazed-chicken-with-broccoli'},\n",
       " {'_recipe_id': 3,\n",
       "  'categories': {'difficulty': ['Easy'],\n",
       "   'ingredient': ['Vinegar', 'Rice'],\n",
       "   'meal': ['Dinner', 'Small Plates', 'Main'],\n",
       "   'special': ['Kid-Friendly'],\n",
       "   'tag': ['Sunday Stash', 'Small Plates'],\n",
       "   'technique': ['Freeze'],\n",
       "   'time': ['Quick']},\n",
       "  'date': '2019-01-30T17:30:00.000Z',\n",
       "  'desc': 'This simple, large batch of seasoned rice can be frozen and repurposed in endless ways for easy, family-friendly meals.',\n",
       "  'image_link': 'https://assets.epicurious.com/photos/5c34e752dca18a525ff43744/6:4/w_274%2Ch_169/SUNDAY-STASH-JANUARY-Rice-HERO-04012019.jpg',\n",
       "  'ingredients': [{'ingredient_group': 'All ingredients',\n",
       "    'ingredient_group_content': ['1 Tbsp. plus 1½ tsp. kosher salt',\n",
       "     '1 Tbsp. distilled white vinegar or rice vinegar',\n",
       "     '2 lb. rice (about 5 cups), rinsed until water runs clear, drained']}],\n",
       "  'nutrients': {'calories': None,\n",
       "   'carbohydrates': 153.0,\n",
       "   'cholesterol': None,\n",
       "   'fat': 0.0,\n",
       "   'fiber': None,\n",
       "   'mono_fat': None,\n",
       "   'poly_fat': None,\n",
       "   'protein': None,\n",
       "   'saturated_fat': None,\n",
       "   'sodium': None},\n",
       "  'preparation': [{'preparation_group': 'All preparation steps',\n",
       "    'preparation_group_content': ['Bring 18 cups water to a boil in a large covered pot over high heat. Stir in salt and vinegar. Add rice, reduce heat to medium, and bring to a simmer. Cook, stirring occasionally, until rice is cooked through but not mushy (taste it: it should still be slightly al dente), 10–20 minutes, depending on variety of rice. Working in batches if needed, strain through a fine-mesh strainer.',\n",
       "     'If not serving immediately, spread rice in an even layer on a rimmed baking sheet and let cool. Transfer to resealable freezer bags, pat down into an even layer (so it defrosts more quickly), and freeze up to 4 months. To defrost, transfer frozen rice to a microwave-proof bowl and sprinkle with a bit of water. Cover and microwave rice on high in 1-minute bursts until warmed through. Alternately, place rice in a saucepan and add a splash of water. Cover and cook over low heat, stirring occasionally and adding more water if needed, until warmed through. If using in a soup, add frozen rice directly to soup and cook until heated through.']}],\n",
       "  'preparation_note': None,\n",
       "  'rating': 0.0,\n",
       "  'recomm_perc': 0.0,\n",
       "  'servings': 14,\n",
       "  'title': 'Big-Batch Rice',\n",
       "  'url': 'https://www.epicurious.com/recipes/food/views/big-batch-rice'},\n",
       " {'_recipe_id': 4,\n",
       "  'categories': {'difficulty': ['Normal'], 'time': ['Standard']},\n",
       "  'date': '2019-01-28T21:22:48.416Z',\n",
       "  'desc': 'For a gluten-free version, toss the shallots in cornstarch rather than flour.',\n",
       "  'image_link': 'https://assets.epicurious.com/photos/5c4a356b227df049c4c48c04/6:4/w_274%2Ch_169/18_Campbells_Epi_NativeDistro_16x9.jpg',\n",
       "  'ingredients': [{'ingredient_group': 'Fried Shallots',\n",
       "    'ingredient_group_content': ['Extra-virgin olive oil',\n",
       "     '4 shallots, thinly sliced into rings',\n",
       "     '1/4 cup unbleached all-purpose flour']},\n",
       "   {'ingredient_group': 'Soup',\n",
       "    'ingredient_group_content': ['2 tablespoons extra virgin olive oil',\n",
       "     '2 bone-in, skin-on chicken thighs',\n",
       "     'Kosher salt and freshly ground pepper',\n",
       "     'One 2-inch piece of ginger, peeled and finely chopped, (1 tablespoon)',\n",
       "     '1/4 tsp. ground cumin',\n",
       "     '1 tsp. ground tumeric',\n",
       "     '4 cups Swanson Chicken Broth',\n",
       "     '8 ounces vermicelli rice noodles or thin spaghetti',\n",
       "     '1 cup leafy herbs, such as cilantro, dill and basil']}],\n",
       "  'nutrients': {'calories': 260.0,\n",
       "   'carbohydrates': 425.0,\n",
       "   'cholesterol': 32.0,\n",
       "   'fat': 29.0,\n",
       "   'fiber': 6.0,\n",
       "   'mono_fat': 2.0,\n",
       "   'poly_fat': 10.0,\n",
       "   'protein': 2.0,\n",
       "   'saturated_fat': 11.0,\n",
       "   'sodium': 1.0},\n",
       "  'preparation': [{'preparation_group': 'All preparation steps',\n",
       "    'preparation_group_content': ['Make the fried shallots: In a small skillet, heat ¼-inch of oil until shimmering. Working in small batches, add a handful of shallots, and cook, turning frequently, until golden, about 1 minute. Using a slotted spoon, transfer fried shallots to a paper towel lined plate.',\n",
       "     'Make the soup: In a medium pot, heat the oil over medium-high. Add the chicken and brown on both sides, about 4 minutes per side. Remove the chicken to a plate.',\n",
       "     'Reduce the heat to medium and add the ginger, turmeric, and cumin. Cook, stirring constantly, until fragrant, about 1 minute.',\n",
       "     'Pour the broth into the pot and return the chicken. Bring to a boil and then reduce to medium-low. Cover and gently simmer until the chicken breasts are just cooked through, about 10 to 12 minutes. Turn off heat. Using tongs or a slotted spoon remove the chicken breast to a plate and let cool slightly. Discard skin and bones and shred chicken meat. Keep warm.',\n",
       "     'Meanwhile, bring a large pot of salted water to a boil. Add the rice noodles or thin spaghetti and cook until al dente per package instructions. Drain.',\n",
       "     'Add noodles to broth and serve brothy noodles topped with pulled chicken, herbs, fried shallots, and black pepper.']}],\n",
       "  'preparation_note': None,\n",
       "  'rating': None,\n",
       "  'recomm_perc': None,\n",
       "  'servings': 10,\n",
       "  'title': 'Golden Noodles With Chicken',\n",
       "  'url': 'https://www.epicurious.com/recipes/food/views/golden-noodles-with-chicken'},\n",
       " {'_recipe_id': 5,\n",
       "  'categories': {'cuisine': ['Italian'],\n",
       "   'difficulty': ['Normal'],\n",
       "   'ingredient': ['Barley',\n",
       "    'Rice',\n",
       "    'Onion',\n",
       "    'Lentil',\n",
       "    'Grains',\n",
       "    'Garlic',\n",
       "    'Coriander',\n",
       "    'Kale',\n",
       "    'Carrot',\n",
       "    'Parmesan'],\n",
       "   'meal': ['Dinner', 'Main'],\n",
       "   'occasion': ['Winter'],\n",
       "   'special': ['Vegetarian', 'Healthy'],\n",
       "   'time': ['Standard'],\n",
       "   'type': ['Soup/Stew', 'Bread']},\n",
       "  'date': '2019-01-23T21:31:43.109Z',\n",
       "  'desc': 'This is the ultimate “nothing in the house to eat” dinner that just happens to be vegetarian and extremely nourishing. If you have homemade chicken or vegetable stock on hand, don’t hesitate to use it instead of water. That said, you’ll get an incredible amount of flavor from the soffritto, lentils, and kale alone.',\n",
       "  'image_link': \"https://assets.epicurious.com/photos/5c5082f2cbdbeb2cc490e215/6:4/w_274%2Ch_169/Carla's-Lentil-and-Greens-Soup-recipe-2-01162019.jpg\",\n",
       "  'ingredients': [{'ingredient_group': 'All ingredients',\n",
       "    'ingredient_group_content': ['2 medium carrots, coarsely chopped',\n",
       "     '1 large onion, coarsely chopped',\n",
       "     '5 garlic cloves, peeled',\n",
       "     '1/2 cup extra-virgin olive oil',\n",
       "     '2 1/2 tsp. kosher salt, divided, plus more',\n",
       "     '1/2 tsp. freshly ground black pepper',\n",
       "     '3/4 cup wheat berries, spelt, unhulled barley, or short grain brown rice (do not use pearled grains)',\n",
       "     '1 tsp. coriander seeds, coarsely crushed',\n",
       "     '1 tsp. ground turmeric',\n",
       "     '2 dried bay leaves',\n",
       "     '3/4 cup French green lentils, rinsed',\n",
       "     '2 bunches curly green kale, stems and ribs removed, leaves torn into 2\" pieces',\n",
       "     'Finely grated Parmesan and toasted crusty bread (for serving)']}],\n",
       "  'nutrients': {'calories': 388.0,\n",
       "   'carbohydrates': 423.0,\n",
       "   'cholesterol': None,\n",
       "   'fat': 45.0,\n",
       "   'fiber': 13.0,\n",
       "   'mono_fat': 3.0,\n",
       "   'poly_fat': 11.0,\n",
       "   'protein': 3.0,\n",
       "   'saturated_fat': 20.0,\n",
       "   'sodium': 7.0},\n",
       "  'preparation': [{'preparation_group': 'All preparation steps',\n",
       "    'preparation_group_content': ['Pulse carrots, onion, and garlic in a food processor until finely chopped. Heat oil in a 6-quart stockpot or Dutch oven over medium, then add vegetables; season with 1 tsp. salt and 1/2 tsp. pepper, stirring to coat. Cook, stirring occasionally, until vegetables begin to look juicy, about 3 minutes. Partially cover with a lid, reduce heat to medium-low, and cook, stirring occasionally, until vegetables are completely tender but have not taken on any color, 10–12 minutes.',\n",
       "     'Add wheat berries, coriander, turmeric, and bay leaves and stir to combine. Cook until bottom of pot is just starting to brown, about 2 minutes. Add 10 cups water and bring to a boil over medium-high heat. Season with 1 1/2 tsp. salt, then reduce heat to medium-low and bring to a simmer. Cook, uncovered and stirring occasionally, until grains show signs of softening but are nowhere near done, about 15 minutes. Add lentils and kale and stir well to combine. Kale should be submerged; add another cup of water if needed. Partially cover pot and cook, stirring occasionally, until lentils and grains are tender and kale is very silky, 40–45 minutes more. Pluck out bay leaves. Taste and season with more salt and pepper if needed.',\n",
       "     'Divide soup among bowls. Serve with Parmesan for sprinkling over and bread for dunking.']}],\n",
       "  'preparation_note': None,\n",
       "  'rating': 3.125,\n",
       "  'recomm_perc': 33.0,\n",
       "  'servings': 6,\n",
       "  'title': 'Lentil Soup with Wheat Berries and Kale',\n",
       "  'url': 'https://www.epicurious.com/recipes/food/views/lentil-soup-with-wheat-berries-and-kale'}]"
      ]
     },
     "execution_count": 41,
     "metadata": {},
     "output_type": "execute_result"
    }
   ],
   "source": [
    "recipes[:5]"
   ]
  },
  {
   "cell_type": "markdown",
   "metadata": {},
   "source": [
    "### Edit #7: Number format in nutrients dropped to 'inf' instead of None in 174 cases"
   ]
  },
  {
   "cell_type": "code",
   "execution_count": 42,
   "metadata": {},
   "outputs": [
    {
     "data": {
      "text/plain": [
       "174"
      ]
     },
     "execution_count": 42,
     "metadata": {},
     "output_type": "execute_result"
    }
   ],
   "source": [
    "count = 0 \n",
    "\n",
    "for recipe in recipes: \n",
    "    \n",
    "    if recipe[\"nutrients\"] is None: \n",
    "        continue\n",
    "        \n",
    "    for k,v in recipe[\"nutrients\"].items():\n",
    "        boolish = False\n",
    "        if v is None: \n",
    "            continue\n",
    "        if v > 300000: \n",
    "            boolish = True\n",
    "    \n",
    "    if boolish:\n",
    "        recipe[\"nutrients\"] = None\n",
    "        count += 1\n",
    "count"
   ]
  },
  {
   "cell_type": "markdown",
   "metadata": {},
   "source": [
    "### Export again"
   ]
  },
  {
   "cell_type": "code",
   "execution_count": 43,
   "metadata": {},
   "outputs": [],
   "source": [
    "with open('data/recipe_urls_final_v3.json', 'a') as f:\n",
    "    json.dump(recipes, f)"
   ]
  }
 ],
 "metadata": {
  "kernelspec": {
   "display_name": "Python 3",
   "language": "python",
   "name": "python3"
  },
  "language_info": {
   "codemirror_mode": {
    "name": "ipython",
    "version": 3
   },
   "file_extension": ".py",
   "mimetype": "text/x-python",
   "name": "python",
   "nbconvert_exporter": "python",
   "pygments_lexer": "ipython3",
   "version": "3.6.4"
  }
 },
 "nbformat": 4,
 "nbformat_minor": 2
}
